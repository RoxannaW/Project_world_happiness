{
 "metadata": {
  "language_info": {
   "codemirror_mode": {
    "name": "ipython",
    "version": 3
   },
   "file_extension": ".py",
   "mimetype": "text/x-python",
   "name": "python",
   "nbconvert_exporter": "python",
   "pygments_lexer": "ipython3",
   "version": 3
  },
  "orig_nbformat": 2,
  "kernelspec": {
   "name": "python_defaultSpec_1597063389610",
   "display_name": "Python 3.8.3 32-bit"
  }
 },
 "nbformat": 4,
 "nbformat_minor": 2,
 "cells": [
  {
   "cell_type": "markdown",
   "metadata": {},
   "source": [
    "# World Hapiness"
   ]
  },
  {
   "cell_type": "markdown",
   "metadata": {},
   "source": [
    "introductie:"
   ]
  },
  {
   "cell_type": "markdown",
   "metadata": {},
   "source": []
  },
  {
   "cell_type": "code",
   "execution_count": 1,
   "metadata": {
    "tags": []
   },
   "outputs": [],
   "source": [
    "os.path.abspath('')\n",
    "root_path = os.path.dirname(os.path.abspath(''))\n",
    "sys.path.append(root_path)\n",
    "\n",
    "import pandas as pd\n",
    "import numpy as np\n",
    "import os, sys\n",
    "from flask import Flask, render_template, redirect, request, jsonify \n",
    "import missingno\n",
    "import time\n",
    "import random\n",
    "import json\n",
    "import seaborn as sns\n",
    "import matplotlib.pyplot  as plt\n",
    "#from utils.apis_tb import\n",
    "import xlrd\n",
    "from utils.mining_data_tb import *"
   ]
  },
  {
   "cell_type": "markdown",
   "metadata": {},
   "source": []
  },
  {
   "cell_type": "code",
   "execution_count": 2,
   "metadata": {
    "tags": []
   },
   "outputs": [
    {
     "output_type": "stream",
     "name": "stdout",
     "text": "Hola\n"
    }
   ],
   "source": [
    "Test()"
   ]
  },
  {
   "cell_type": "markdown",
   "metadata": {},
   "source": [
    "### Collecting Data"
   ]
  },
  {
   "cell_type": "code",
   "execution_count": 2,
   "metadata": {},
   "outputs": [],
   "source": [
    "#importing datasets of yearly world hapiness report.\n",
    "data_2015 = pd.read_csv(\"datasets_2015.csv\")\n",
    "data_2016 = pd.read_csv(\"datasets_2016.csv\")\n",
    "data_2017 = pd.read_csv(\"datasets_2017.csv\")\n",
    "data_2018 = pd.read_csv(\"datasets_2018.csv\")\n",
    "data_2019 = pd.read_csv(\"datasets_2019.csv\")"
   ]
  },
  {
   "cell_type": "code",
   "execution_count": 3,
   "metadata": {},
   "outputs": [],
   "source": [
    "#importing content table from Wikipedia with Gloval Peace Index per country from 2008 to 2019\n",
    "url = \"https://en.wikipedia.org/wiki/Global_Peace_Index\"\n",
    "df_world_peace = pd.read_html(url)[2]"
   ]
  },
  {
   "cell_type": "code",
   "execution_count": 4,
   "metadata": {},
   "outputs": [
    {
     "output_type": "execute_result",
     "data": {
      "text/plain": "  ref_area.label                              indicator.label  \\\n0        Albania  SDG indicator 8.5.2 - Unemployment rate (%)   \n1        Albania  SDG indicator 8.5.2 - Unemployment rate (%)   \n2        Albania  SDG indicator 8.5.2 - Unemployment rate (%)   \n3        Albania  SDG indicator 8.5.2 - Unemployment rate (%)   \n4        Albania  SDG indicator 8.5.2 - Unemployment rate (%)   \n\n                      source.label   sex.label              classif1.label  \\\n0  ALB - LFS - Labour Force Survey  Sex: Total  Age (Youth, adults): 15-64   \n1  ALB - LFS - Labour Force Survey  Sex: Total  Age (Youth, adults): 15-64   \n2  ALB - LFS - Labour Force Survey  Sex: Total  Age (Youth, adults): 15-64   \n3  ALB - LFS - Labour Force Survey  Sex: Total  Age (Youth, adults): 15-64   \n4  ALB - LFS - Labour Force Survey  Sex: Total  Age (Youth, adults): 15-64   \n\n   time  obs_value obs_status.label note_classif.label note_indicator.label  \\\n0  2015    17.5806             None               None                 None   \n1  2016    15.8059             None               None                 None   \n2  2017    13.9826             None               None                 None   \n3  2018    12.7767             None               None                 None   \n4  2019    11.9473             None               None                 None   \n\n                                   note_source.label  \n0  Repository: ILO-STATISTICS - Micro data proces...  \n1  Repository: ILO-STATISTICS - Micro data proces...  \n2  Repository: ILO-STATISTICS - Micro data proces...  \n3  Repository: ILO-STATISTICS - Micro data proces...  \n4  Repository: ILO-STATISTICS - Micro data proces...  ",
      "text/html": "<div>\n<style scoped>\n    .dataframe tbody tr th:only-of-type {\n        vertical-align: middle;\n    }\n\n    .dataframe tbody tr th {\n        vertical-align: top;\n    }\n\n    .dataframe thead th {\n        text-align: right;\n    }\n</style>\n<table border=\"1\" class=\"dataframe\">\n  <thead>\n    <tr style=\"text-align: right;\">\n      <th></th>\n      <th>ref_area.label</th>\n      <th>indicator.label</th>\n      <th>source.label</th>\n      <th>sex.label</th>\n      <th>classif1.label</th>\n      <th>time</th>\n      <th>obs_value</th>\n      <th>obs_status.label</th>\n      <th>note_classif.label</th>\n      <th>note_indicator.label</th>\n      <th>note_source.label</th>\n    </tr>\n  </thead>\n  <tbody>\n    <tr>\n      <th>0</th>\n      <td>Albania</td>\n      <td>SDG indicator 8.5.2 - Unemployment rate (%)</td>\n      <td>ALB - LFS - Labour Force Survey</td>\n      <td>Sex: Total</td>\n      <td>Age (Youth, adults): 15-64</td>\n      <td>2015</td>\n      <td>17.5806</td>\n      <td>None</td>\n      <td>None</td>\n      <td>None</td>\n      <td>Repository: ILO-STATISTICS - Micro data proces...</td>\n    </tr>\n    <tr>\n      <th>1</th>\n      <td>Albania</td>\n      <td>SDG indicator 8.5.2 - Unemployment rate (%)</td>\n      <td>ALB - LFS - Labour Force Survey</td>\n      <td>Sex: Total</td>\n      <td>Age (Youth, adults): 15-64</td>\n      <td>2016</td>\n      <td>15.8059</td>\n      <td>None</td>\n      <td>None</td>\n      <td>None</td>\n      <td>Repository: ILO-STATISTICS - Micro data proces...</td>\n    </tr>\n    <tr>\n      <th>2</th>\n      <td>Albania</td>\n      <td>SDG indicator 8.5.2 - Unemployment rate (%)</td>\n      <td>ALB - LFS - Labour Force Survey</td>\n      <td>Sex: Total</td>\n      <td>Age (Youth, adults): 15-64</td>\n      <td>2017</td>\n      <td>13.9826</td>\n      <td>None</td>\n      <td>None</td>\n      <td>None</td>\n      <td>Repository: ILO-STATISTICS - Micro data proces...</td>\n    </tr>\n    <tr>\n      <th>3</th>\n      <td>Albania</td>\n      <td>SDG indicator 8.5.2 - Unemployment rate (%)</td>\n      <td>ALB - LFS - Labour Force Survey</td>\n      <td>Sex: Total</td>\n      <td>Age (Youth, adults): 15-64</td>\n      <td>2018</td>\n      <td>12.7767</td>\n      <td>None</td>\n      <td>None</td>\n      <td>None</td>\n      <td>Repository: ILO-STATISTICS - Micro data proces...</td>\n    </tr>\n    <tr>\n      <th>4</th>\n      <td>Albania</td>\n      <td>SDG indicator 8.5.2 - Unemployment rate (%)</td>\n      <td>ALB - LFS - Labour Force Survey</td>\n      <td>Sex: Total</td>\n      <td>Age (Youth, adults): 15-64</td>\n      <td>2019</td>\n      <td>11.9473</td>\n      <td>None</td>\n      <td>None</td>\n      <td>None</td>\n      <td>Repository: ILO-STATISTICS - Micro data proces...</td>\n    </tr>\n  </tbody>\n</table>\n</div>"
     },
     "metadata": {},
     "execution_count": 4
    }
   ],
   "source": [
    "#Importing content from Json file of unemployment rate per country from 2015 to 2019. The dataframe is showing the unemployement percentage of all people between 15-64 years.  Source:https://www.ilo.org/shinyapps/bulkexplorer15/?lang=en&segment=indicator&id=SDG_0852_SEX_AGE_RT_A \n",
    "df_unemployment = pd.read_json(\"percentage_unemployment.json\")\n",
    "df_unemployment.head()"
   ]
  },
  {
   "cell_type": "markdown",
   "metadata": {},
   "source": [
    "### Cleaning Dataframes"
   ]
  },
  {
   "cell_type": "code",
   "execution_count": null,
   "metadata": {},
   "outputs": [],
   "source": []
  },
  {
   "cell_type": "markdown",
   "metadata": {},
   "source": [
    "1) datasets from world happiness reports.\n",
    "\n",
    "As all the dataframes have slightly different columns names and also extra columns, I will first clean the dataframe by applying the following steps:\n",
    "- change the column names so they are all the same.\n",
    "- filtering the dataframe with only the columns that are useful for the analysis and that are available in all      the dataframes, and setting the country column as Index\n",
    "- adding a column with the year for reference. This will come in handy when adding all the dataframes from the      different years together. \n",
    "The functions are saved in the file: Mining_data and imported from there. "
   ]
  },
  {
   "cell_type": "code",
   "execution_count": 5,
   "metadata": {
    "tags": []
   },
   "outputs": [
    {
     "output_type": "stream",
     "name": "stdout",
     "text": "done\n"
    },
    {
     "output_type": "execute_result",
     "data": {
      "text/plain": "             Overall rank  Score  GDP per capita  Social support  \\\nCountry                                                            \nSwitzerland             1  7.587         1.39651         1.34951   \nIceland                 2  7.561         1.30232         1.40223   \nDenmark                 3  7.527         1.32548         1.36058   \nNorway                  4  7.522         1.45900         1.33095   \nCanada                  5  7.427         1.32629         1.32261   \n...                   ...    ...             ...             ...   \nRwanda                154  3.465         0.22208         0.77370   \nBenin                 155  3.340         0.28665         0.35386   \nSyria                 156  3.006         0.66320         0.47489   \nBurundi               157  2.905         0.01530         0.41587   \nTogo                  158  2.839         0.20868         0.13995   \n\n             Healthy life expectancy  Freedom to make life choices  \\\nCountry                                                              \nSwitzerland                  0.94143                       0.66557   \nIceland                      0.94784                       0.62877   \nDenmark                      0.87464                       0.64938   \nNorway                       0.88521                       0.66973   \nCanada                       0.90563                       0.63297   \n...                              ...                           ...   \nRwanda                       0.42864                       0.59201   \nBenin                        0.31910                       0.48450   \nSyria                        0.72193                       0.15684   \nBurundi                      0.22396                       0.11850   \nTogo                         0.28443                       0.36453   \n\n             Generosity  Perceptions of corruption  Year  \nCountry                                                   \nSwitzerland     0.29678                    0.41978  2015  \nIceland         0.43630                    0.14145  2015  \nDenmark         0.34139                    0.48357  2015  \nNorway          0.34699                    0.36503  2015  \nCanada          0.45811                    0.32957  2015  \n...                 ...                        ...   ...  \nRwanda          0.22628                    0.55191  2015  \nBenin           0.18260                    0.08010  2015  \nSyria           0.47179                    0.18906  2015  \nBurundi         0.19727                    0.10062  2015  \nTogo            0.16681                    0.10731  2015  \n\n[158 rows x 9 columns]",
      "text/html": "<div>\n<style scoped>\n    .dataframe tbody tr th:only-of-type {\n        vertical-align: middle;\n    }\n\n    .dataframe tbody tr th {\n        vertical-align: top;\n    }\n\n    .dataframe thead th {\n        text-align: right;\n    }\n</style>\n<table border=\"1\" class=\"dataframe\">\n  <thead>\n    <tr style=\"text-align: right;\">\n      <th></th>\n      <th>Overall rank</th>\n      <th>Score</th>\n      <th>GDP per capita</th>\n      <th>Social support</th>\n      <th>Healthy life expectancy</th>\n      <th>Freedom to make life choices</th>\n      <th>Generosity</th>\n      <th>Perceptions of corruption</th>\n      <th>Year</th>\n    </tr>\n    <tr>\n      <th>Country</th>\n      <th></th>\n      <th></th>\n      <th></th>\n      <th></th>\n      <th></th>\n      <th></th>\n      <th></th>\n      <th></th>\n      <th></th>\n    </tr>\n  </thead>\n  <tbody>\n    <tr>\n      <th>Switzerland</th>\n      <td>1</td>\n      <td>7.587</td>\n      <td>1.39651</td>\n      <td>1.34951</td>\n      <td>0.94143</td>\n      <td>0.66557</td>\n      <td>0.29678</td>\n      <td>0.41978</td>\n      <td>2015</td>\n    </tr>\n    <tr>\n      <th>Iceland</th>\n      <td>2</td>\n      <td>7.561</td>\n      <td>1.30232</td>\n      <td>1.40223</td>\n      <td>0.94784</td>\n      <td>0.62877</td>\n      <td>0.43630</td>\n      <td>0.14145</td>\n      <td>2015</td>\n    </tr>\n    <tr>\n      <th>Denmark</th>\n      <td>3</td>\n      <td>7.527</td>\n      <td>1.32548</td>\n      <td>1.36058</td>\n      <td>0.87464</td>\n      <td>0.64938</td>\n      <td>0.34139</td>\n      <td>0.48357</td>\n      <td>2015</td>\n    </tr>\n    <tr>\n      <th>Norway</th>\n      <td>4</td>\n      <td>7.522</td>\n      <td>1.45900</td>\n      <td>1.33095</td>\n      <td>0.88521</td>\n      <td>0.66973</td>\n      <td>0.34699</td>\n      <td>0.36503</td>\n      <td>2015</td>\n    </tr>\n    <tr>\n      <th>Canada</th>\n      <td>5</td>\n      <td>7.427</td>\n      <td>1.32629</td>\n      <td>1.32261</td>\n      <td>0.90563</td>\n      <td>0.63297</td>\n      <td>0.45811</td>\n      <td>0.32957</td>\n      <td>2015</td>\n    </tr>\n    <tr>\n      <th>...</th>\n      <td>...</td>\n      <td>...</td>\n      <td>...</td>\n      <td>...</td>\n      <td>...</td>\n      <td>...</td>\n      <td>...</td>\n      <td>...</td>\n      <td>...</td>\n    </tr>\n    <tr>\n      <th>Rwanda</th>\n      <td>154</td>\n      <td>3.465</td>\n      <td>0.22208</td>\n      <td>0.77370</td>\n      <td>0.42864</td>\n      <td>0.59201</td>\n      <td>0.22628</td>\n      <td>0.55191</td>\n      <td>2015</td>\n    </tr>\n    <tr>\n      <th>Benin</th>\n      <td>155</td>\n      <td>3.340</td>\n      <td>0.28665</td>\n      <td>0.35386</td>\n      <td>0.31910</td>\n      <td>0.48450</td>\n      <td>0.18260</td>\n      <td>0.08010</td>\n      <td>2015</td>\n    </tr>\n    <tr>\n      <th>Syria</th>\n      <td>156</td>\n      <td>3.006</td>\n      <td>0.66320</td>\n      <td>0.47489</td>\n      <td>0.72193</td>\n      <td>0.15684</td>\n      <td>0.47179</td>\n      <td>0.18906</td>\n      <td>2015</td>\n    </tr>\n    <tr>\n      <th>Burundi</th>\n      <td>157</td>\n      <td>2.905</td>\n      <td>0.01530</td>\n      <td>0.41587</td>\n      <td>0.22396</td>\n      <td>0.11850</td>\n      <td>0.19727</td>\n      <td>0.10062</td>\n      <td>2015</td>\n    </tr>\n    <tr>\n      <th>Togo</th>\n      <td>158</td>\n      <td>2.839</td>\n      <td>0.20868</td>\n      <td>0.13995</td>\n      <td>0.28443</td>\n      <td>0.36453</td>\n      <td>0.16681</td>\n      <td>0.10731</td>\n      <td>2015</td>\n    </tr>\n  </tbody>\n</table>\n<p>158 rows × 9 columns</p>\n</div>"
     },
     "metadata": {},
     "execution_count": 5
    }
   ],
   "source": [
    "Change_columns(df=data_2015)\n",
    "Add_year(df=data_2015, year=\"2015\")\n",
    "Filter_dataframe(df=data_2015)"
   ]
  },
  {
   "cell_type": "code",
   "execution_count": 6,
   "metadata": {
    "tags": []
   },
   "outputs": [
    {
     "output_type": "stream",
     "name": "stdout",
     "text": "done\n"
    },
    {
     "output_type": "execute_result",
     "data": {
      "text/plain": "             Overall rank  Score  GDP per capita  Social support  \\\nCountry                                                            \nDenmark                 1  7.526         1.44178         1.16374   \nSwitzerland             2  7.509         1.52733         1.14524   \nIceland                 3  7.501         1.42666         1.18326   \nNorway                  4  7.498         1.57744         1.12690   \nFinland                 5  7.413         1.40598         1.13464   \n...                   ...    ...             ...             ...   \nBenin                 153  3.484         0.39499         0.10419   \nAfghanistan           154  3.360         0.38227         0.11037   \nTogo                  155  3.303         0.28123         0.00000   \nSyria                 156  3.069         0.74719         0.14866   \nBurundi               157  2.905         0.06831         0.23442   \n\n             Healthy life expectancy  Freedom to make life choices  \\\nCountry                                                              \nDenmark                      0.79504                       0.57941   \nSwitzerland                  0.86303                       0.58557   \nIceland                      0.86733                       0.56624   \nNorway                       0.79579                       0.59609   \nFinland                      0.81091                       0.57104   \n...                              ...                           ...   \nBenin                        0.21028                       0.39747   \nAfghanistan                  0.17344                       0.16430   \nTogo                         0.24811                       0.34678   \nSyria                        0.62994                       0.06912   \nBurundi                      0.15747                       0.04320   \n\n             Generosity  Perceptions of corruption  Year  \nCountry                                                   \nDenmark         0.36171                    0.44453  2016  \nSwitzerland     0.28083                    0.41203  2016  \nIceland         0.47678                    0.14975  2016  \nNorway          0.37895                    0.35776  2016  \nFinland         0.25492                    0.41004  2016  \n...                 ...                        ...   ...  \nBenin           0.20180                    0.06681  2016  \nAfghanistan     0.31268                    0.07112  2016  \nTogo            0.17517                    0.11587  2016  \nSyria           0.48397                    0.17233  2016  \nBurundi         0.20290                    0.09419  2016  \n\n[157 rows x 9 columns]",
      "text/html": "<div>\n<style scoped>\n    .dataframe tbody tr th:only-of-type {\n        vertical-align: middle;\n    }\n\n    .dataframe tbody tr th {\n        vertical-align: top;\n    }\n\n    .dataframe thead th {\n        text-align: right;\n    }\n</style>\n<table border=\"1\" class=\"dataframe\">\n  <thead>\n    <tr style=\"text-align: right;\">\n      <th></th>\n      <th>Overall rank</th>\n      <th>Score</th>\n      <th>GDP per capita</th>\n      <th>Social support</th>\n      <th>Healthy life expectancy</th>\n      <th>Freedom to make life choices</th>\n      <th>Generosity</th>\n      <th>Perceptions of corruption</th>\n      <th>Year</th>\n    </tr>\n    <tr>\n      <th>Country</th>\n      <th></th>\n      <th></th>\n      <th></th>\n      <th></th>\n      <th></th>\n      <th></th>\n      <th></th>\n      <th></th>\n      <th></th>\n    </tr>\n  </thead>\n  <tbody>\n    <tr>\n      <th>Denmark</th>\n      <td>1</td>\n      <td>7.526</td>\n      <td>1.44178</td>\n      <td>1.16374</td>\n      <td>0.79504</td>\n      <td>0.57941</td>\n      <td>0.36171</td>\n      <td>0.44453</td>\n      <td>2016</td>\n    </tr>\n    <tr>\n      <th>Switzerland</th>\n      <td>2</td>\n      <td>7.509</td>\n      <td>1.52733</td>\n      <td>1.14524</td>\n      <td>0.86303</td>\n      <td>0.58557</td>\n      <td>0.28083</td>\n      <td>0.41203</td>\n      <td>2016</td>\n    </tr>\n    <tr>\n      <th>Iceland</th>\n      <td>3</td>\n      <td>7.501</td>\n      <td>1.42666</td>\n      <td>1.18326</td>\n      <td>0.86733</td>\n      <td>0.56624</td>\n      <td>0.47678</td>\n      <td>0.14975</td>\n      <td>2016</td>\n    </tr>\n    <tr>\n      <th>Norway</th>\n      <td>4</td>\n      <td>7.498</td>\n      <td>1.57744</td>\n      <td>1.12690</td>\n      <td>0.79579</td>\n      <td>0.59609</td>\n      <td>0.37895</td>\n      <td>0.35776</td>\n      <td>2016</td>\n    </tr>\n    <tr>\n      <th>Finland</th>\n      <td>5</td>\n      <td>7.413</td>\n      <td>1.40598</td>\n      <td>1.13464</td>\n      <td>0.81091</td>\n      <td>0.57104</td>\n      <td>0.25492</td>\n      <td>0.41004</td>\n      <td>2016</td>\n    </tr>\n    <tr>\n      <th>...</th>\n      <td>...</td>\n      <td>...</td>\n      <td>...</td>\n      <td>...</td>\n      <td>...</td>\n      <td>...</td>\n      <td>...</td>\n      <td>...</td>\n      <td>...</td>\n    </tr>\n    <tr>\n      <th>Benin</th>\n      <td>153</td>\n      <td>3.484</td>\n      <td>0.39499</td>\n      <td>0.10419</td>\n      <td>0.21028</td>\n      <td>0.39747</td>\n      <td>0.20180</td>\n      <td>0.06681</td>\n      <td>2016</td>\n    </tr>\n    <tr>\n      <th>Afghanistan</th>\n      <td>154</td>\n      <td>3.360</td>\n      <td>0.38227</td>\n      <td>0.11037</td>\n      <td>0.17344</td>\n      <td>0.16430</td>\n      <td>0.31268</td>\n      <td>0.07112</td>\n      <td>2016</td>\n    </tr>\n    <tr>\n      <th>Togo</th>\n      <td>155</td>\n      <td>3.303</td>\n      <td>0.28123</td>\n      <td>0.00000</td>\n      <td>0.24811</td>\n      <td>0.34678</td>\n      <td>0.17517</td>\n      <td>0.11587</td>\n      <td>2016</td>\n    </tr>\n    <tr>\n      <th>Syria</th>\n      <td>156</td>\n      <td>3.069</td>\n      <td>0.74719</td>\n      <td>0.14866</td>\n      <td>0.62994</td>\n      <td>0.06912</td>\n      <td>0.48397</td>\n      <td>0.17233</td>\n      <td>2016</td>\n    </tr>\n    <tr>\n      <th>Burundi</th>\n      <td>157</td>\n      <td>2.905</td>\n      <td>0.06831</td>\n      <td>0.23442</td>\n      <td>0.15747</td>\n      <td>0.04320</td>\n      <td>0.20290</td>\n      <td>0.09419</td>\n      <td>2016</td>\n    </tr>\n  </tbody>\n</table>\n<p>157 rows × 9 columns</p>\n</div>"
     },
     "metadata": {},
     "execution_count": 6
    }
   ],
   "source": [
    "Change_columns(df=data_2016)\n",
    "Add_year(df=data_2016, year=\"2016\")\n",
    "Filter_dataframe(df=data_2016)"
   ]
  },
  {
   "cell_type": "code",
   "execution_count": 7,
   "metadata": {
    "tags": []
   },
   "outputs": [
    {
     "output_type": "stream",
     "name": "stdout",
     "text": "done\n"
    },
    {
     "output_type": "execute_result",
     "data": {
      "text/plain": "                          Overall rank  Score  GDP per capita  Social support  \\\nCountry                                                                         \nNorway                               1  7.537        1.616463        1.533524   \nDenmark                              2  7.522        1.482383        1.551122   \nIceland                              3  7.504        1.480633        1.610574   \nSwitzerland                          4  7.494        1.564980        1.516912   \nFinland                              5  7.469        1.443572        1.540247   \n...                                ...    ...             ...             ...   \nRwanda                             151  3.471        0.368746        0.945707   \nSyria                              152  3.462        0.777153        0.396103   \nTanzania                           153  3.349        0.511136        1.041990   \nBurundi                            154  2.905        0.091623        0.629794   \nCentral African Republic           155  2.693        0.000000        0.000000   \n\n                          Healthy life expectancy  \\\nCountry                                             \nNorway                                   0.796667   \nDenmark                                  0.792566   \nIceland                                  0.833552   \nSwitzerland                              0.858131   \nFinland                                  0.809158   \n...                                           ...   \nRwanda                                   0.326425   \nSyria                                    0.500533   \nTanzania                                 0.364509   \nBurundi                                  0.151611   \nCentral African Republic                 0.018773   \n\n                          Freedom to make life choices  Generosity  \\\nCountry                                                              \nNorway                                        0.635423    0.362012   \nDenmark                                       0.626007    0.355280   \nIceland                                       0.627163    0.475540   \nSwitzerland                                   0.620071    0.290549   \nFinland                                       0.617951    0.245483   \n...                                                ...         ...   \nRwanda                                        0.581844    0.252756   \nSyria                                         0.081539    0.493664   \nTanzania                                      0.390018    0.354256   \nBurundi                                       0.059901    0.204435   \nCentral African Republic                      0.270842    0.280876   \n\n                          Perceptions of corruption  Year  \nCountry                                                    \nNorway                                     0.315964  2017  \nDenmark                                    0.400770  2017  \nIceland                                    0.153527  2017  \nSwitzerland                                0.367007  2017  \nFinland                                    0.382612  2017  \n...                                             ...   ...  \nRwanda                                     0.455220  2017  \nSyria                                      0.151347  2017  \nTanzania                                   0.066035  2017  \nBurundi                                    0.084148  2017  \nCentral African Republic                   0.056565  2017  \n\n[155 rows x 9 columns]",
      "text/html": "<div>\n<style scoped>\n    .dataframe tbody tr th:only-of-type {\n        vertical-align: middle;\n    }\n\n    .dataframe tbody tr th {\n        vertical-align: top;\n    }\n\n    .dataframe thead th {\n        text-align: right;\n    }\n</style>\n<table border=\"1\" class=\"dataframe\">\n  <thead>\n    <tr style=\"text-align: right;\">\n      <th></th>\n      <th>Overall rank</th>\n      <th>Score</th>\n      <th>GDP per capita</th>\n      <th>Social support</th>\n      <th>Healthy life expectancy</th>\n      <th>Freedom to make life choices</th>\n      <th>Generosity</th>\n      <th>Perceptions of corruption</th>\n      <th>Year</th>\n    </tr>\n    <tr>\n      <th>Country</th>\n      <th></th>\n      <th></th>\n      <th></th>\n      <th></th>\n      <th></th>\n      <th></th>\n      <th></th>\n      <th></th>\n      <th></th>\n    </tr>\n  </thead>\n  <tbody>\n    <tr>\n      <th>Norway</th>\n      <td>1</td>\n      <td>7.537</td>\n      <td>1.616463</td>\n      <td>1.533524</td>\n      <td>0.796667</td>\n      <td>0.635423</td>\n      <td>0.362012</td>\n      <td>0.315964</td>\n      <td>2017</td>\n    </tr>\n    <tr>\n      <th>Denmark</th>\n      <td>2</td>\n      <td>7.522</td>\n      <td>1.482383</td>\n      <td>1.551122</td>\n      <td>0.792566</td>\n      <td>0.626007</td>\n      <td>0.355280</td>\n      <td>0.400770</td>\n      <td>2017</td>\n    </tr>\n    <tr>\n      <th>Iceland</th>\n      <td>3</td>\n      <td>7.504</td>\n      <td>1.480633</td>\n      <td>1.610574</td>\n      <td>0.833552</td>\n      <td>0.627163</td>\n      <td>0.475540</td>\n      <td>0.153527</td>\n      <td>2017</td>\n    </tr>\n    <tr>\n      <th>Switzerland</th>\n      <td>4</td>\n      <td>7.494</td>\n      <td>1.564980</td>\n      <td>1.516912</td>\n      <td>0.858131</td>\n      <td>0.620071</td>\n      <td>0.290549</td>\n      <td>0.367007</td>\n      <td>2017</td>\n    </tr>\n    <tr>\n      <th>Finland</th>\n      <td>5</td>\n      <td>7.469</td>\n      <td>1.443572</td>\n      <td>1.540247</td>\n      <td>0.809158</td>\n      <td>0.617951</td>\n      <td>0.245483</td>\n      <td>0.382612</td>\n      <td>2017</td>\n    </tr>\n    <tr>\n      <th>...</th>\n      <td>...</td>\n      <td>...</td>\n      <td>...</td>\n      <td>...</td>\n      <td>...</td>\n      <td>...</td>\n      <td>...</td>\n      <td>...</td>\n      <td>...</td>\n    </tr>\n    <tr>\n      <th>Rwanda</th>\n      <td>151</td>\n      <td>3.471</td>\n      <td>0.368746</td>\n      <td>0.945707</td>\n      <td>0.326425</td>\n      <td>0.581844</td>\n      <td>0.252756</td>\n      <td>0.455220</td>\n      <td>2017</td>\n    </tr>\n    <tr>\n      <th>Syria</th>\n      <td>152</td>\n      <td>3.462</td>\n      <td>0.777153</td>\n      <td>0.396103</td>\n      <td>0.500533</td>\n      <td>0.081539</td>\n      <td>0.493664</td>\n      <td>0.151347</td>\n      <td>2017</td>\n    </tr>\n    <tr>\n      <th>Tanzania</th>\n      <td>153</td>\n      <td>3.349</td>\n      <td>0.511136</td>\n      <td>1.041990</td>\n      <td>0.364509</td>\n      <td>0.390018</td>\n      <td>0.354256</td>\n      <td>0.066035</td>\n      <td>2017</td>\n    </tr>\n    <tr>\n      <th>Burundi</th>\n      <td>154</td>\n      <td>2.905</td>\n      <td>0.091623</td>\n      <td>0.629794</td>\n      <td>0.151611</td>\n      <td>0.059901</td>\n      <td>0.204435</td>\n      <td>0.084148</td>\n      <td>2017</td>\n    </tr>\n    <tr>\n      <th>Central African Republic</th>\n      <td>155</td>\n      <td>2.693</td>\n      <td>0.000000</td>\n      <td>0.000000</td>\n      <td>0.018773</td>\n      <td>0.270842</td>\n      <td>0.280876</td>\n      <td>0.056565</td>\n      <td>2017</td>\n    </tr>\n  </tbody>\n</table>\n<p>155 rows × 9 columns</p>\n</div>"
     },
     "metadata": {},
     "execution_count": 7
    }
   ],
   "source": [
    "Change_columns(df=data_2017)\n",
    "Add_year(df=data_2017, year=\"2017\")\n",
    "Filter_dataframe(df=data_2017)\n"
   ]
  },
  {
   "cell_type": "code",
   "execution_count": 8,
   "metadata": {
    "tags": []
   },
   "outputs": [
    {
     "output_type": "stream",
     "name": "stdout",
     "text": "done\n"
    },
    {
     "output_type": "execute_result",
     "data": {
      "text/plain": "                          Overall rank  Score  GDP per capita  Social support  \\\nCountry                                                                         \nFinland                              1  7.632           1.305           1.592   \nNorway                               2  7.594           1.456           1.582   \nDenmark                              3  7.555           1.351           1.590   \nIceland                              4  7.495           1.343           1.644   \nSwitzerland                          5  7.487           1.420           1.549   \n...                                ...    ...             ...             ...   \nYemen                              152  3.355           0.442           1.073   \nTanzania                           153  3.303           0.455           0.991   \nSouth Sudan                        154  3.254           0.337           0.608   \nCentral African Republic           155  3.083           0.024           0.000   \nBurundi                            156  2.905           0.091           0.627   \n\n                          Healthy life expectancy  \\\nCountry                                             \nFinland                                     0.874   \nNorway                                      0.861   \nDenmark                                     0.868   \nIceland                                     0.914   \nSwitzerland                                 0.927   \n...                                           ...   \nYemen                                       0.343   \nTanzania                                    0.381   \nSouth Sudan                                 0.177   \nCentral African Republic                    0.010   \nBurundi                                     0.145   \n\n                          Freedom to make life choices  Generosity  \\\nCountry                                                              \nFinland                                          0.681       0.202   \nNorway                                           0.686       0.286   \nDenmark                                          0.683       0.284   \nIceland                                          0.677       0.353   \nSwitzerland                                      0.660       0.256   \n...                                                ...         ...   \nYemen                                            0.244       0.083   \nTanzania                                         0.481       0.270   \nSouth Sudan                                      0.112       0.224   \nCentral African Republic                         0.305       0.218   \nBurundi                                          0.065       0.149   \n\n                          Perceptions of corruption  Year  \nCountry                                                    \nFinland                                       0.393  2018  \nNorway                                        0.340  2018  \nDenmark                                       0.408  2018  \nIceland                                       0.138  2018  \nSwitzerland                                   0.357  2018  \n...                                             ...   ...  \nYemen                                         0.064  2018  \nTanzania                                      0.097  2018  \nSouth Sudan                                   0.106  2018  \nCentral African Republic                      0.038  2018  \nBurundi                                       0.076  2018  \n\n[156 rows x 9 columns]",
      "text/html": "<div>\n<style scoped>\n    .dataframe tbody tr th:only-of-type {\n        vertical-align: middle;\n    }\n\n    .dataframe tbody tr th {\n        vertical-align: top;\n    }\n\n    .dataframe thead th {\n        text-align: right;\n    }\n</style>\n<table border=\"1\" class=\"dataframe\">\n  <thead>\n    <tr style=\"text-align: right;\">\n      <th></th>\n      <th>Overall rank</th>\n      <th>Score</th>\n      <th>GDP per capita</th>\n      <th>Social support</th>\n      <th>Healthy life expectancy</th>\n      <th>Freedom to make life choices</th>\n      <th>Generosity</th>\n      <th>Perceptions of corruption</th>\n      <th>Year</th>\n    </tr>\n    <tr>\n      <th>Country</th>\n      <th></th>\n      <th></th>\n      <th></th>\n      <th></th>\n      <th></th>\n      <th></th>\n      <th></th>\n      <th></th>\n      <th></th>\n    </tr>\n  </thead>\n  <tbody>\n    <tr>\n      <th>Finland</th>\n      <td>1</td>\n      <td>7.632</td>\n      <td>1.305</td>\n      <td>1.592</td>\n      <td>0.874</td>\n      <td>0.681</td>\n      <td>0.202</td>\n      <td>0.393</td>\n      <td>2018</td>\n    </tr>\n    <tr>\n      <th>Norway</th>\n      <td>2</td>\n      <td>7.594</td>\n      <td>1.456</td>\n      <td>1.582</td>\n      <td>0.861</td>\n      <td>0.686</td>\n      <td>0.286</td>\n      <td>0.340</td>\n      <td>2018</td>\n    </tr>\n    <tr>\n      <th>Denmark</th>\n      <td>3</td>\n      <td>7.555</td>\n      <td>1.351</td>\n      <td>1.590</td>\n      <td>0.868</td>\n      <td>0.683</td>\n      <td>0.284</td>\n      <td>0.408</td>\n      <td>2018</td>\n    </tr>\n    <tr>\n      <th>Iceland</th>\n      <td>4</td>\n      <td>7.495</td>\n      <td>1.343</td>\n      <td>1.644</td>\n      <td>0.914</td>\n      <td>0.677</td>\n      <td>0.353</td>\n      <td>0.138</td>\n      <td>2018</td>\n    </tr>\n    <tr>\n      <th>Switzerland</th>\n      <td>5</td>\n      <td>7.487</td>\n      <td>1.420</td>\n      <td>1.549</td>\n      <td>0.927</td>\n      <td>0.660</td>\n      <td>0.256</td>\n      <td>0.357</td>\n      <td>2018</td>\n    </tr>\n    <tr>\n      <th>...</th>\n      <td>...</td>\n      <td>...</td>\n      <td>...</td>\n      <td>...</td>\n      <td>...</td>\n      <td>...</td>\n      <td>...</td>\n      <td>...</td>\n      <td>...</td>\n    </tr>\n    <tr>\n      <th>Yemen</th>\n      <td>152</td>\n      <td>3.355</td>\n      <td>0.442</td>\n      <td>1.073</td>\n      <td>0.343</td>\n      <td>0.244</td>\n      <td>0.083</td>\n      <td>0.064</td>\n      <td>2018</td>\n    </tr>\n    <tr>\n      <th>Tanzania</th>\n      <td>153</td>\n      <td>3.303</td>\n      <td>0.455</td>\n      <td>0.991</td>\n      <td>0.381</td>\n      <td>0.481</td>\n      <td>0.270</td>\n      <td>0.097</td>\n      <td>2018</td>\n    </tr>\n    <tr>\n      <th>South Sudan</th>\n      <td>154</td>\n      <td>3.254</td>\n      <td>0.337</td>\n      <td>0.608</td>\n      <td>0.177</td>\n      <td>0.112</td>\n      <td>0.224</td>\n      <td>0.106</td>\n      <td>2018</td>\n    </tr>\n    <tr>\n      <th>Central African Republic</th>\n      <td>155</td>\n      <td>3.083</td>\n      <td>0.024</td>\n      <td>0.000</td>\n      <td>0.010</td>\n      <td>0.305</td>\n      <td>0.218</td>\n      <td>0.038</td>\n      <td>2018</td>\n    </tr>\n    <tr>\n      <th>Burundi</th>\n      <td>156</td>\n      <td>2.905</td>\n      <td>0.091</td>\n      <td>0.627</td>\n      <td>0.145</td>\n      <td>0.065</td>\n      <td>0.149</td>\n      <td>0.076</td>\n      <td>2018</td>\n    </tr>\n  </tbody>\n</table>\n<p>156 rows × 9 columns</p>\n</div>"
     },
     "metadata": {},
     "execution_count": 8
    }
   ],
   "source": [
    "Change_columns(df=data_2018)\n",
    "Add_year(df=data_2018, year=\"2018\")\n",
    "Filter_dataframe(df=data_2018)\n"
   ]
  },
  {
   "cell_type": "code",
   "execution_count": 9,
   "metadata": {
    "tags": []
   },
   "outputs": [
    {
     "output_type": "stream",
     "name": "stdout",
     "text": "done\n"
    },
    {
     "output_type": "execute_result",
     "data": {
      "text/plain": "                          Overall rank  Score  GDP per capita  Social support  \\\nCountry                                                                         \nFinland                              1  7.769           1.340           1.587   \nDenmark                              2  7.600           1.383           1.573   \nNorway                               3  7.554           1.488           1.582   \nIceland                              4  7.494           1.380           1.624   \nNetherlands                          5  7.488           1.396           1.522   \n...                                ...    ...             ...             ...   \nRwanda                             152  3.334           0.359           0.711   \nTanzania                           153  3.231           0.476           0.885   \nAfghanistan                        154  3.203           0.350           0.517   \nCentral African Republic           155  3.083           0.026           0.000   \nSouth Sudan                        156  2.853           0.306           0.575   \n\n                          Healthy life expectancy  \\\nCountry                                             \nFinland                                     0.986   \nDenmark                                     0.996   \nNorway                                      1.028   \nIceland                                     1.026   \nNetherlands                                 0.999   \n...                                           ...   \nRwanda                                      0.614   \nTanzania                                    0.499   \nAfghanistan                                 0.361   \nCentral African Republic                    0.105   \nSouth Sudan                                 0.295   \n\n                          Freedom to make life choices  Generosity  \\\nCountry                                                              \nFinland                                          0.596       0.153   \nDenmark                                          0.592       0.252   \nNorway                                           0.603       0.271   \nIceland                                          0.591       0.354   \nNetherlands                                      0.557       0.322   \n...                                                ...         ...   \nRwanda                                           0.555       0.217   \nTanzania                                         0.417       0.276   \nAfghanistan                                      0.000       0.158   \nCentral African Republic                         0.225       0.235   \nSouth Sudan                                      0.010       0.202   \n\n                          Perceptions of corruption  Year  \nCountry                                                    \nFinland                                       0.393  2019  \nDenmark                                       0.410  2019  \nNorway                                        0.341  2019  \nIceland                                       0.118  2019  \nNetherlands                                   0.298  2019  \n...                                             ...   ...  \nRwanda                                        0.411  2019  \nTanzania                                      0.147  2019  \nAfghanistan                                   0.025  2019  \nCentral African Republic                      0.035  2019  \nSouth Sudan                                   0.091  2019  \n\n[156 rows x 9 columns]",
      "text/html": "<div>\n<style scoped>\n    .dataframe tbody tr th:only-of-type {\n        vertical-align: middle;\n    }\n\n    .dataframe tbody tr th {\n        vertical-align: top;\n    }\n\n    .dataframe thead th {\n        text-align: right;\n    }\n</style>\n<table border=\"1\" class=\"dataframe\">\n  <thead>\n    <tr style=\"text-align: right;\">\n      <th></th>\n      <th>Overall rank</th>\n      <th>Score</th>\n      <th>GDP per capita</th>\n      <th>Social support</th>\n      <th>Healthy life expectancy</th>\n      <th>Freedom to make life choices</th>\n      <th>Generosity</th>\n      <th>Perceptions of corruption</th>\n      <th>Year</th>\n    </tr>\n    <tr>\n      <th>Country</th>\n      <th></th>\n      <th></th>\n      <th></th>\n      <th></th>\n      <th></th>\n      <th></th>\n      <th></th>\n      <th></th>\n      <th></th>\n    </tr>\n  </thead>\n  <tbody>\n    <tr>\n      <th>Finland</th>\n      <td>1</td>\n      <td>7.769</td>\n      <td>1.340</td>\n      <td>1.587</td>\n      <td>0.986</td>\n      <td>0.596</td>\n      <td>0.153</td>\n      <td>0.393</td>\n      <td>2019</td>\n    </tr>\n    <tr>\n      <th>Denmark</th>\n      <td>2</td>\n      <td>7.600</td>\n      <td>1.383</td>\n      <td>1.573</td>\n      <td>0.996</td>\n      <td>0.592</td>\n      <td>0.252</td>\n      <td>0.410</td>\n      <td>2019</td>\n    </tr>\n    <tr>\n      <th>Norway</th>\n      <td>3</td>\n      <td>7.554</td>\n      <td>1.488</td>\n      <td>1.582</td>\n      <td>1.028</td>\n      <td>0.603</td>\n      <td>0.271</td>\n      <td>0.341</td>\n      <td>2019</td>\n    </tr>\n    <tr>\n      <th>Iceland</th>\n      <td>4</td>\n      <td>7.494</td>\n      <td>1.380</td>\n      <td>1.624</td>\n      <td>1.026</td>\n      <td>0.591</td>\n      <td>0.354</td>\n      <td>0.118</td>\n      <td>2019</td>\n    </tr>\n    <tr>\n      <th>Netherlands</th>\n      <td>5</td>\n      <td>7.488</td>\n      <td>1.396</td>\n      <td>1.522</td>\n      <td>0.999</td>\n      <td>0.557</td>\n      <td>0.322</td>\n      <td>0.298</td>\n      <td>2019</td>\n    </tr>\n    <tr>\n      <th>...</th>\n      <td>...</td>\n      <td>...</td>\n      <td>...</td>\n      <td>...</td>\n      <td>...</td>\n      <td>...</td>\n      <td>...</td>\n      <td>...</td>\n      <td>...</td>\n    </tr>\n    <tr>\n      <th>Rwanda</th>\n      <td>152</td>\n      <td>3.334</td>\n      <td>0.359</td>\n      <td>0.711</td>\n      <td>0.614</td>\n      <td>0.555</td>\n      <td>0.217</td>\n      <td>0.411</td>\n      <td>2019</td>\n    </tr>\n    <tr>\n      <th>Tanzania</th>\n      <td>153</td>\n      <td>3.231</td>\n      <td>0.476</td>\n      <td>0.885</td>\n      <td>0.499</td>\n      <td>0.417</td>\n      <td>0.276</td>\n      <td>0.147</td>\n      <td>2019</td>\n    </tr>\n    <tr>\n      <th>Afghanistan</th>\n      <td>154</td>\n      <td>3.203</td>\n      <td>0.350</td>\n      <td>0.517</td>\n      <td>0.361</td>\n      <td>0.000</td>\n      <td>0.158</td>\n      <td>0.025</td>\n      <td>2019</td>\n    </tr>\n    <tr>\n      <th>Central African Republic</th>\n      <td>155</td>\n      <td>3.083</td>\n      <td>0.026</td>\n      <td>0.000</td>\n      <td>0.105</td>\n      <td>0.225</td>\n      <td>0.235</td>\n      <td>0.035</td>\n      <td>2019</td>\n    </tr>\n    <tr>\n      <th>South Sudan</th>\n      <td>156</td>\n      <td>2.853</td>\n      <td>0.306</td>\n      <td>0.575</td>\n      <td>0.295</td>\n      <td>0.010</td>\n      <td>0.202</td>\n      <td>0.091</td>\n      <td>2019</td>\n    </tr>\n  </tbody>\n</table>\n<p>156 rows × 9 columns</p>\n</div>"
     },
     "metadata": {},
     "execution_count": 9
    }
   ],
   "source": [
    "Change_columns(df=data_2019)\n",
    "Add_year(df=data_2019, year=\"2019\")\n",
    "Filter_dataframe(df=data_2019)"
   ]
  },
  {
   "cell_type": "markdown",
   "metadata": {},
   "source": [
    "2) Dataset for World Peace Index.\n",
    "\n",
    "As the dataset has columns of years that are not necessary and some column names have extra characters and letters in it, we will be running dataframe through a function to clean this. The function will do the folowing:\n",
    "- filter the dataframe for the correct years\n",
    "- clean the names of the columns\n",
    "- setting country as index. \n",
    "\n",
    "FYI as the info is not saved somehow after passing throught the function, now saving in extra variable. Will need to check later. "
   ]
  },
  {
   "cell_type": "code",
   "execution_count": 10,
   "metadata": {
    "tags": []
   },
   "outputs": [
    {
     "output_type": "stream",
     "name": "stdout",
     "text": "done\n"
    },
    {
     "output_type": "execute_result",
     "data": {
      "text/plain": "            2019 rank  2019 score 2018 rank  2018 score 2017 rank  2017 score  \\\nCountry                                                                         \nIceland             1       1.072         1       1.096         1       1.084   \nNew Zealand         2       1.221         2       1.188         2       1.216   \nPortugal            3       1.274         5       1.315         3       1.273   \nAustria             4       1.291         3       1.273         4       1.292   \nDenmark             5       1.316         4       1.313         5       1.299   \n...               ...         ...       ...         ...       ...         ...   \nYemen             159       3.369       160       3.436       161       3.516   \nSyria             160       3.412       158       3.308       157       3.316   \nSouth Sudan       161       3.526       161       3.525       160       3.462   \nIraq              162       3.573       163       3.599       163       3.660   \nSomalia           163       3.574       162       3.576       162       3.519   \n\n            2016 rank  2016 score 2015 rank  2015 score  \nCountry                                                  \nIceland             1       1.138         1       1.142  \nNew Zealand         3       1.238         3       1.263  \nPortugal            5       1.324        12       1.418  \nAustria             4       1.249         4       1.264  \nDenmark             2       1.201         2       1.179  \n...               ...         ...       ...         ...  \nYemen             162       3.530       160       3.481  \nSyria             157       3.287       148       2.840  \nSouth Sudan       161       3.524       161       3.491  \nIraq              163       3.653       162       3.628  \nSomalia           160       3.465       159       3.425  \n\n[163 rows x 10 columns]",
      "text/html": "<div>\n<style scoped>\n    .dataframe tbody tr th:only-of-type {\n        vertical-align: middle;\n    }\n\n    .dataframe tbody tr th {\n        vertical-align: top;\n    }\n\n    .dataframe thead th {\n        text-align: right;\n    }\n</style>\n<table border=\"1\" class=\"dataframe\">\n  <thead>\n    <tr style=\"text-align: right;\">\n      <th></th>\n      <th>2019 rank</th>\n      <th>2019 score</th>\n      <th>2018 rank</th>\n      <th>2018 score</th>\n      <th>2017 rank</th>\n      <th>2017 score</th>\n      <th>2016 rank</th>\n      <th>2016 score</th>\n      <th>2015 rank</th>\n      <th>2015 score</th>\n    </tr>\n    <tr>\n      <th>Country</th>\n      <th></th>\n      <th></th>\n      <th></th>\n      <th></th>\n      <th></th>\n      <th></th>\n      <th></th>\n      <th></th>\n      <th></th>\n      <th></th>\n    </tr>\n  </thead>\n  <tbody>\n    <tr>\n      <th>Iceland</th>\n      <td>1</td>\n      <td>1.072</td>\n      <td>1</td>\n      <td>1.096</td>\n      <td>1</td>\n      <td>1.084</td>\n      <td>1</td>\n      <td>1.138</td>\n      <td>1</td>\n      <td>1.142</td>\n    </tr>\n    <tr>\n      <th>New Zealand</th>\n      <td>2</td>\n      <td>1.221</td>\n      <td>2</td>\n      <td>1.188</td>\n      <td>2</td>\n      <td>1.216</td>\n      <td>3</td>\n      <td>1.238</td>\n      <td>3</td>\n      <td>1.263</td>\n    </tr>\n    <tr>\n      <th>Portugal</th>\n      <td>3</td>\n      <td>1.274</td>\n      <td>5</td>\n      <td>1.315</td>\n      <td>3</td>\n      <td>1.273</td>\n      <td>5</td>\n      <td>1.324</td>\n      <td>12</td>\n      <td>1.418</td>\n    </tr>\n    <tr>\n      <th>Austria</th>\n      <td>4</td>\n      <td>1.291</td>\n      <td>3</td>\n      <td>1.273</td>\n      <td>4</td>\n      <td>1.292</td>\n      <td>4</td>\n      <td>1.249</td>\n      <td>4</td>\n      <td>1.264</td>\n    </tr>\n    <tr>\n      <th>Denmark</th>\n      <td>5</td>\n      <td>1.316</td>\n      <td>4</td>\n      <td>1.313</td>\n      <td>5</td>\n      <td>1.299</td>\n      <td>2</td>\n      <td>1.201</td>\n      <td>2</td>\n      <td>1.179</td>\n    </tr>\n    <tr>\n      <th>...</th>\n      <td>...</td>\n      <td>...</td>\n      <td>...</td>\n      <td>...</td>\n      <td>...</td>\n      <td>...</td>\n      <td>...</td>\n      <td>...</td>\n      <td>...</td>\n      <td>...</td>\n    </tr>\n    <tr>\n      <th>Yemen</th>\n      <td>159</td>\n      <td>3.369</td>\n      <td>160</td>\n      <td>3.436</td>\n      <td>161</td>\n      <td>3.516</td>\n      <td>162</td>\n      <td>3.530</td>\n      <td>160</td>\n      <td>3.481</td>\n    </tr>\n    <tr>\n      <th>Syria</th>\n      <td>160</td>\n      <td>3.412</td>\n      <td>158</td>\n      <td>3.308</td>\n      <td>157</td>\n      <td>3.316</td>\n      <td>157</td>\n      <td>3.287</td>\n      <td>148</td>\n      <td>2.840</td>\n    </tr>\n    <tr>\n      <th>South Sudan</th>\n      <td>161</td>\n      <td>3.526</td>\n      <td>161</td>\n      <td>3.525</td>\n      <td>160</td>\n      <td>3.462</td>\n      <td>161</td>\n      <td>3.524</td>\n      <td>161</td>\n      <td>3.491</td>\n    </tr>\n    <tr>\n      <th>Iraq</th>\n      <td>162</td>\n      <td>3.573</td>\n      <td>163</td>\n      <td>3.599</td>\n      <td>163</td>\n      <td>3.660</td>\n      <td>163</td>\n      <td>3.653</td>\n      <td>162</td>\n      <td>3.628</td>\n    </tr>\n    <tr>\n      <th>Somalia</th>\n      <td>163</td>\n      <td>3.574</td>\n      <td>162</td>\n      <td>3.576</td>\n      <td>162</td>\n      <td>3.519</td>\n      <td>160</td>\n      <td>3.465</td>\n      <td>159</td>\n      <td>3.425</td>\n    </tr>\n  </tbody>\n</table>\n<p>163 rows × 10 columns</p>\n</div>"
     },
     "metadata": {},
     "execution_count": 10
    }
   ],
   "source": [
    "df_world_peace = Clean_data_peace_index(df=df_world_peace)\n",
    "df_world_peace"
   ]
  },
  {
   "cell_type": "markdown",
   "metadata": {},
   "source": [
    "3) Dataset for unemployment rate.\n",
    "\n",
    "As the dataframe contains many unuseful columns, unclear column names and structure, I will pass the dataframe through a cleaning functions that will do the following:\n",
    "- filter for only the necessary columns\n",
    "- change the columns names\n",
    "- set Country and Year as indices"
   ]
  },
  {
   "cell_type": "code",
   "execution_count": 14,
   "metadata": {},
   "outputs": [],
   "source": [
    "#Clean_data_unemployment(df=df_unemployment)\n",
    "## function somehow not working, returning none value. follow next steps:\n",
    "df_unemployment = df_unemployment[['ref_area.label', 'time', 'obs_value']]\n",
    "df_unemployment.rename(columns={'ref_area.label':'Country', 'time':'Year', 'obs_value':'Unemployment_rate'},                            inplace=True)\n",
    "df_unemployment.set_index(\"Country\", inplace=True) "
   ]
  },
  {
   "cell_type": "code",
   "execution_count": 15,
   "metadata": {},
   "outputs": [
    {
     "output_type": "execute_result",
     "data": {
      "text/plain": "Year               2015     2016     2017     2018     2019\nCountry                                                    \nAlbania         17.5806  15.8059  13.9826  12.7767  11.9473\nArgentina           NaN      NaN   8.5335   9.3666  10.0923\nArmenia         18.8186  18.1652  18.2708  19.3374      NaN\nAustralia        6.2178   5.8676   5.7566   5.4573   5.3115\nAustria          5.8226   6.1113   5.5785   4.9212   4.5524\n...                 ...      ...      ...      ...      ...\nUnited Kingdom   5.4372   4.9368   4.4372   4.0994   3.8272\nUnited States    5.3661   4.9337   4.4040   3.9376   3.7180\nUruguay          7.7062   8.0649   8.1399   8.5756   9.5715\nViet Nam         1.9191   1.9149   1.9440   1.2083   2.0831\nZambia              NaN      NaN  11.8471  12.1641      NaN\n\n[131 rows x 5 columns]",
      "text/html": "<div>\n<style scoped>\n    .dataframe tbody tr th:only-of-type {\n        vertical-align: middle;\n    }\n\n    .dataframe tbody tr th {\n        vertical-align: top;\n    }\n\n    .dataframe thead th {\n        text-align: right;\n    }\n</style>\n<table border=\"1\" class=\"dataframe\">\n  <thead>\n    <tr style=\"text-align: right;\">\n      <th>Year</th>\n      <th>2015</th>\n      <th>2016</th>\n      <th>2017</th>\n      <th>2018</th>\n      <th>2019</th>\n    </tr>\n    <tr>\n      <th>Country</th>\n      <th></th>\n      <th></th>\n      <th></th>\n      <th></th>\n      <th></th>\n    </tr>\n  </thead>\n  <tbody>\n    <tr>\n      <th>Albania</th>\n      <td>17.5806</td>\n      <td>15.8059</td>\n      <td>13.9826</td>\n      <td>12.7767</td>\n      <td>11.9473</td>\n    </tr>\n    <tr>\n      <th>Argentina</th>\n      <td>NaN</td>\n      <td>NaN</td>\n      <td>8.5335</td>\n      <td>9.3666</td>\n      <td>10.0923</td>\n    </tr>\n    <tr>\n      <th>Armenia</th>\n      <td>18.8186</td>\n      <td>18.1652</td>\n      <td>18.2708</td>\n      <td>19.3374</td>\n      <td>NaN</td>\n    </tr>\n    <tr>\n      <th>Australia</th>\n      <td>6.2178</td>\n      <td>5.8676</td>\n      <td>5.7566</td>\n      <td>5.4573</td>\n      <td>5.3115</td>\n    </tr>\n    <tr>\n      <th>Austria</th>\n      <td>5.8226</td>\n      <td>6.1113</td>\n      <td>5.5785</td>\n      <td>4.9212</td>\n      <td>4.5524</td>\n    </tr>\n    <tr>\n      <th>...</th>\n      <td>...</td>\n      <td>...</td>\n      <td>...</td>\n      <td>...</td>\n      <td>...</td>\n    </tr>\n    <tr>\n      <th>United Kingdom</th>\n      <td>5.4372</td>\n      <td>4.9368</td>\n      <td>4.4372</td>\n      <td>4.0994</td>\n      <td>3.8272</td>\n    </tr>\n    <tr>\n      <th>United States</th>\n      <td>5.3661</td>\n      <td>4.9337</td>\n      <td>4.4040</td>\n      <td>3.9376</td>\n      <td>3.7180</td>\n    </tr>\n    <tr>\n      <th>Uruguay</th>\n      <td>7.7062</td>\n      <td>8.0649</td>\n      <td>8.1399</td>\n      <td>8.5756</td>\n      <td>9.5715</td>\n    </tr>\n    <tr>\n      <th>Viet Nam</th>\n      <td>1.9191</td>\n      <td>1.9149</td>\n      <td>1.9440</td>\n      <td>1.2083</td>\n      <td>2.0831</td>\n    </tr>\n    <tr>\n      <th>Zambia</th>\n      <td>NaN</td>\n      <td>NaN</td>\n      <td>11.8471</td>\n      <td>12.1641</td>\n      <td>NaN</td>\n    </tr>\n  </tbody>\n</table>\n<p>131 rows × 5 columns</p>\n</div>"
     },
     "metadata": {},
     "execution_count": 15
    }
   ],
   "source": [
    "#Changing to pivot table to have clearer overview. \n",
    "df_unemployment = df_unemployment.pivot_table(values='Unemployment_rate', index=df_unemployment.index, columns='Year', aggfunc='first')\n",
    "df_unemployment"
   ]
  },
  {
   "cell_type": "markdown",
   "metadata": {},
   "source": [
    "### Merging dataframes."
   ]
  },
  {
   "cell_type": "code",
   "execution_count": null,
   "metadata": {},
   "outputs": [],
   "source": []
  },
  {
   "cell_type": "code",
   "execution_count": null,
   "metadata": {},
   "outputs": [],
   "source": [
    "#merging dataframes together\n",
    "data_all_years = pd.concat([data_2015, data_2016, data_2017, data_2018, data_2019], ignore_index=True)"
   ]
  },
  {
   "cell_type": "code",
   "execution_count": null,
   "metadata": {},
   "outputs": [],
   "source": [
    "https://en.wikipedia.org/wiki/Global_Peace_Index webscraping voor peace index per country 2015 to 2020!\n",
    "http://visionofhumanity.org/app/uploads/2020/06/GPI_2020_web.pdf peace index 2020  ##global peace index. "
   ]
  },
  {
   "cell_type": "code",
   "execution_count": null,
   "metadata": {},
   "outputs": [],
   "source": [
    "werkeloosheid: percentage per land: https://www.ilo.org/shinyapps/bulkexplorer15/?lang=en&segment=indicator&id=SDG_0852_SEX_AGE_RT_A   # in csv en json file.\n",
    "df_unemployment = pd.read_json(\"percentage_unemployment.json\")"
   ]
  },
  {
   "cell_type": "code",
   "execution_count": 29,
   "metadata": {
    "tags": []
   },
   "outputs": [],
   "source": [
    "df_unemployment = pd.read_json(\"percentage_unemployment.json\") ## hebben we ook in json file .\n"
   ]
  },
  {
   "cell_type": "code",
   "execution_count": 30,
   "metadata": {},
   "outputs": [
    {
     "output_type": "execute_result",
     "data": {
      "text/plain": "         ref_area.label                              indicator.label  \\\n0               Albania  SDG indicator 8.5.2 - Unemployment rate (%)   \n1               Albania  SDG indicator 8.5.2 - Unemployment rate (%)   \n2               Albania  SDG indicator 8.5.2 - Unemployment rate (%)   \n3               Albania  SDG indicator 8.5.2 - Unemployment rate (%)   \n4               Albania  SDG indicator 8.5.2 - Unemployment rate (%)   \n5  United Arab Emirates  SDG indicator 8.5.2 - Unemployment rate (%)   \n6  United Arab Emirates  SDG indicator 8.5.2 - Unemployment rate (%)   \n7             Argentina  SDG indicator 8.5.2 - Unemployment rate (%)   \n8             Argentina  SDG indicator 8.5.2 - Unemployment rate (%)   \n9             Argentina  SDG indicator 8.5.2 - Unemployment rate (%)   \n\n                                        source.label   sex.label  \\\n0                    ALB - LFS - Labour Force Survey  Sex: Total   \n1                    ALB - LFS - Labour Force Survey  Sex: Total   \n2                    ALB - LFS - Labour Force Survey  Sex: Total   \n3                    ALB - LFS - Labour Force Survey  Sex: Total   \n4                    ALB - LFS - Labour Force Survey  Sex: Total   \n5                    ARE - LFS - Labour force survey  Sex: Total   \n6                    ARE - LFS - Labour force survey  Sex: Total   \n7  ARG - LFS - Encuesta Permanente de Hogares (Ur...  Sex: Total   \n8  ARG - LFS - Encuesta Permanente de Hogares (Ur...  Sex: Total   \n9  ARG - LFS - Encuesta Permanente de Hogares (Ur...  Sex: Total   \n\n               classif1.label  time  obs_value obs_status.label  \\\n0  Age (Youth, adults): 15-64  2015    17.5806             None   \n1  Age (Youth, adults): 15-64  2016    15.8059             None   \n2  Age (Youth, adults): 15-64  2017    13.9826             None   \n3  Age (Youth, adults): 15-64  2018    12.7767             None   \n4  Age (Youth, adults): 15-64  2019    11.9473             None   \n5  Age (Youth, adults): 15-64  2017     2.4690             None   \n6  Age (Youth, adults): 15-64  2019     2.2380             None   \n7  Age (Youth, adults): 15-64  2017     8.5335             None   \n8  Age (Youth, adults): 15-64  2018     9.3666             None   \n9  Age (Youth, adults): 15-64  2019    10.0923             None   \n\n  note_classif.label note_indicator.label  \\\n0               None                 None   \n1               None                 None   \n2               None                 None   \n3               None                 None   \n4               None                 None   \n5               None                 None   \n6               None                 None   \n7               None                 None   \n8               None                 None   \n9               None                 None   \n\n                                   note_source.label  \n0  Repository: ILO-STATISTICS - Micro data proces...  \n1  Repository: ILO-STATISTICS - Micro data proces...  \n2  Repository: ILO-STATISTICS - Micro data proces...  \n3  Repository: ILO-STATISTICS - Micro data proces...  \n4  Repository: ILO-STATISTICS - Micro data proces...  \n5  Repository: ILO-STATISTICS - Micro data proces...  \n6  Repository: ILO-STATISTICS - Micro data proces...  \n7  Repository: ILO-STATISTICS - Micro data proces...  \n8  Repository: ILO-STATISTICS - Micro data proces...  \n9  Repository: ILO-STATISTICS - Micro data proces...  ",
      "text/html": "<div>\n<style scoped>\n    .dataframe tbody tr th:only-of-type {\n        vertical-align: middle;\n    }\n\n    .dataframe tbody tr th {\n        vertical-align: top;\n    }\n\n    .dataframe thead th {\n        text-align: right;\n    }\n</style>\n<table border=\"1\" class=\"dataframe\">\n  <thead>\n    <tr style=\"text-align: right;\">\n      <th></th>\n      <th>ref_area.label</th>\n      <th>indicator.label</th>\n      <th>source.label</th>\n      <th>sex.label</th>\n      <th>classif1.label</th>\n      <th>time</th>\n      <th>obs_value</th>\n      <th>obs_status.label</th>\n      <th>note_classif.label</th>\n      <th>note_indicator.label</th>\n      <th>note_source.label</th>\n    </tr>\n  </thead>\n  <tbody>\n    <tr>\n      <th>0</th>\n      <td>Albania</td>\n      <td>SDG indicator 8.5.2 - Unemployment rate (%)</td>\n      <td>ALB - LFS - Labour Force Survey</td>\n      <td>Sex: Total</td>\n      <td>Age (Youth, adults): 15-64</td>\n      <td>2015</td>\n      <td>17.5806</td>\n      <td>None</td>\n      <td>None</td>\n      <td>None</td>\n      <td>Repository: ILO-STATISTICS - Micro data proces...</td>\n    </tr>\n    <tr>\n      <th>1</th>\n      <td>Albania</td>\n      <td>SDG indicator 8.5.2 - Unemployment rate (%)</td>\n      <td>ALB - LFS - Labour Force Survey</td>\n      <td>Sex: Total</td>\n      <td>Age (Youth, adults): 15-64</td>\n      <td>2016</td>\n      <td>15.8059</td>\n      <td>None</td>\n      <td>None</td>\n      <td>None</td>\n      <td>Repository: ILO-STATISTICS - Micro data proces...</td>\n    </tr>\n    <tr>\n      <th>2</th>\n      <td>Albania</td>\n      <td>SDG indicator 8.5.2 - Unemployment rate (%)</td>\n      <td>ALB - LFS - Labour Force Survey</td>\n      <td>Sex: Total</td>\n      <td>Age (Youth, adults): 15-64</td>\n      <td>2017</td>\n      <td>13.9826</td>\n      <td>None</td>\n      <td>None</td>\n      <td>None</td>\n      <td>Repository: ILO-STATISTICS - Micro data proces...</td>\n    </tr>\n    <tr>\n      <th>3</th>\n      <td>Albania</td>\n      <td>SDG indicator 8.5.2 - Unemployment rate (%)</td>\n      <td>ALB - LFS - Labour Force Survey</td>\n      <td>Sex: Total</td>\n      <td>Age (Youth, adults): 15-64</td>\n      <td>2018</td>\n      <td>12.7767</td>\n      <td>None</td>\n      <td>None</td>\n      <td>None</td>\n      <td>Repository: ILO-STATISTICS - Micro data proces...</td>\n    </tr>\n    <tr>\n      <th>4</th>\n      <td>Albania</td>\n      <td>SDG indicator 8.5.2 - Unemployment rate (%)</td>\n      <td>ALB - LFS - Labour Force Survey</td>\n      <td>Sex: Total</td>\n      <td>Age (Youth, adults): 15-64</td>\n      <td>2019</td>\n      <td>11.9473</td>\n      <td>None</td>\n      <td>None</td>\n      <td>None</td>\n      <td>Repository: ILO-STATISTICS - Micro data proces...</td>\n    </tr>\n    <tr>\n      <th>5</th>\n      <td>United Arab Emirates</td>\n      <td>SDG indicator 8.5.2 - Unemployment rate (%)</td>\n      <td>ARE - LFS - Labour force survey</td>\n      <td>Sex: Total</td>\n      <td>Age (Youth, adults): 15-64</td>\n      <td>2017</td>\n      <td>2.4690</td>\n      <td>None</td>\n      <td>None</td>\n      <td>None</td>\n      <td>Repository: ILO-STATISTICS - Micro data proces...</td>\n    </tr>\n    <tr>\n      <th>6</th>\n      <td>United Arab Emirates</td>\n      <td>SDG indicator 8.5.2 - Unemployment rate (%)</td>\n      <td>ARE - LFS - Labour force survey</td>\n      <td>Sex: Total</td>\n      <td>Age (Youth, adults): 15-64</td>\n      <td>2019</td>\n      <td>2.2380</td>\n      <td>None</td>\n      <td>None</td>\n      <td>None</td>\n      <td>Repository: ILO-STATISTICS - Micro data proces...</td>\n    </tr>\n    <tr>\n      <th>7</th>\n      <td>Argentina</td>\n      <td>SDG indicator 8.5.2 - Unemployment rate (%)</td>\n      <td>ARG - LFS - Encuesta Permanente de Hogares (Ur...</td>\n      <td>Sex: Total</td>\n      <td>Age (Youth, adults): 15-64</td>\n      <td>2017</td>\n      <td>8.5335</td>\n      <td>None</td>\n      <td>None</td>\n      <td>None</td>\n      <td>Repository: ILO-STATISTICS - Micro data proces...</td>\n    </tr>\n    <tr>\n      <th>8</th>\n      <td>Argentina</td>\n      <td>SDG indicator 8.5.2 - Unemployment rate (%)</td>\n      <td>ARG - LFS - Encuesta Permanente de Hogares (Ur...</td>\n      <td>Sex: Total</td>\n      <td>Age (Youth, adults): 15-64</td>\n      <td>2018</td>\n      <td>9.3666</td>\n      <td>None</td>\n      <td>None</td>\n      <td>None</td>\n      <td>Repository: ILO-STATISTICS - Micro data proces...</td>\n    </tr>\n    <tr>\n      <th>9</th>\n      <td>Argentina</td>\n      <td>SDG indicator 8.5.2 - Unemployment rate (%)</td>\n      <td>ARG - LFS - Encuesta Permanente de Hogares (Ur...</td>\n      <td>Sex: Total</td>\n      <td>Age (Youth, adults): 15-64</td>\n      <td>2019</td>\n      <td>10.0923</td>\n      <td>None</td>\n      <td>None</td>\n      <td>None</td>\n      <td>Repository: ILO-STATISTICS - Micro data proces...</td>\n    </tr>\n  </tbody>\n</table>\n</div>"
     },
     "metadata": {},
     "execution_count": 30
    }
   ],
   "source": [
    "df_unemployment.head(10)"
   ]
  },
  {
   "cell_type": "code",
   "execution_count": 84,
   "metadata": {},
   "outputs": [],
   "source": [
    "df_household = pd.read_csv(\"GDL-Average-household-size-data.csv\")"
   ]
  },
  {
   "cell_type": "code",
   "execution_count": 87,
   "metadata": {},
   "outputs": [
    {
     "output_type": "execute_result",
     "data": {
      "text/plain": "     Country ISO_Code     Level  GDLCODE            Region  2015  2016  2017  \\\n0    Algeria      DZA  National     DZAt             Total  6.20  6.12   NaN   \n1    Algeria      DZA   Urb/rur    DZAtu             Urban  6.08  6.00   NaN   \n2    Algeria      DZA   Urb/rur    DZAtr             Rural  6.45  6.36   NaN   \n3    Algeria      DZA   Poverty    DZAp1              Poor  5.95  5.84   NaN   \n4    Algeria      DZA   Poverty    DZAp0           Nonpoor  6.21  6.12   NaN   \n..       ...      ...       ...      ...               ...   ...   ...   ...   \n495  Liberia      LBR    Subnat  LBRr101              Bomi  6.32  6.32   NaN   \n496  Liberia      LBR    Subnat  LBRr102              Bong  5.68  5.68   NaN   \n497  Liberia      LBR    Subnat  LBRr103          Gbarpolu  6.33  6.33   NaN   \n498  Liberia      LBR    Subnat  LBRr104       Grand Bassa  5.90  5.90   NaN   \n499  Liberia      LBR    Subnat  LBRr105  Grand Cape Mount  6.82  6.82   NaN   \n\n     2018  \n0     NaN  \n1     NaN  \n2     NaN  \n3     NaN  \n4     NaN  \n..    ...  \n495   NaN  \n496   NaN  \n497   NaN  \n498   NaN  \n499   NaN  \n\n[500 rows x 9 columns]",
      "text/html": "<div>\n<style scoped>\n    .dataframe tbody tr th:only-of-type {\n        vertical-align: middle;\n    }\n\n    .dataframe tbody tr th {\n        vertical-align: top;\n    }\n\n    .dataframe thead th {\n        text-align: right;\n    }\n</style>\n<table border=\"1\" class=\"dataframe\">\n  <thead>\n    <tr style=\"text-align: right;\">\n      <th></th>\n      <th>Country</th>\n      <th>ISO_Code</th>\n      <th>Level</th>\n      <th>GDLCODE</th>\n      <th>Region</th>\n      <th>2015</th>\n      <th>2016</th>\n      <th>2017</th>\n      <th>2018</th>\n    </tr>\n  </thead>\n  <tbody>\n    <tr>\n      <th>0</th>\n      <td>Algeria</td>\n      <td>DZA</td>\n      <td>National</td>\n      <td>DZAt</td>\n      <td>Total</td>\n      <td>6.20</td>\n      <td>6.12</td>\n      <td>NaN</td>\n      <td>NaN</td>\n    </tr>\n    <tr>\n      <th>1</th>\n      <td>Algeria</td>\n      <td>DZA</td>\n      <td>Urb/rur</td>\n      <td>DZAtu</td>\n      <td>Urban</td>\n      <td>6.08</td>\n      <td>6.00</td>\n      <td>NaN</td>\n      <td>NaN</td>\n    </tr>\n    <tr>\n      <th>2</th>\n      <td>Algeria</td>\n      <td>DZA</td>\n      <td>Urb/rur</td>\n      <td>DZAtr</td>\n      <td>Rural</td>\n      <td>6.45</td>\n      <td>6.36</td>\n      <td>NaN</td>\n      <td>NaN</td>\n    </tr>\n    <tr>\n      <th>3</th>\n      <td>Algeria</td>\n      <td>DZA</td>\n      <td>Poverty</td>\n      <td>DZAp1</td>\n      <td>Poor</td>\n      <td>5.95</td>\n      <td>5.84</td>\n      <td>NaN</td>\n      <td>NaN</td>\n    </tr>\n    <tr>\n      <th>4</th>\n      <td>Algeria</td>\n      <td>DZA</td>\n      <td>Poverty</td>\n      <td>DZAp0</td>\n      <td>Nonpoor</td>\n      <td>6.21</td>\n      <td>6.12</td>\n      <td>NaN</td>\n      <td>NaN</td>\n    </tr>\n    <tr>\n      <th>...</th>\n      <td>...</td>\n      <td>...</td>\n      <td>...</td>\n      <td>...</td>\n      <td>...</td>\n      <td>...</td>\n      <td>...</td>\n      <td>...</td>\n      <td>...</td>\n    </tr>\n    <tr>\n      <th>495</th>\n      <td>Liberia</td>\n      <td>LBR</td>\n      <td>Subnat</td>\n      <td>LBRr101</td>\n      <td>Bomi</td>\n      <td>6.32</td>\n      <td>6.32</td>\n      <td>NaN</td>\n      <td>NaN</td>\n    </tr>\n    <tr>\n      <th>496</th>\n      <td>Liberia</td>\n      <td>LBR</td>\n      <td>Subnat</td>\n      <td>LBRr102</td>\n      <td>Bong</td>\n      <td>5.68</td>\n      <td>5.68</td>\n      <td>NaN</td>\n      <td>NaN</td>\n    </tr>\n    <tr>\n      <th>497</th>\n      <td>Liberia</td>\n      <td>LBR</td>\n      <td>Subnat</td>\n      <td>LBRr103</td>\n      <td>Gbarpolu</td>\n      <td>6.33</td>\n      <td>6.33</td>\n      <td>NaN</td>\n      <td>NaN</td>\n    </tr>\n    <tr>\n      <th>498</th>\n      <td>Liberia</td>\n      <td>LBR</td>\n      <td>Subnat</td>\n      <td>LBRr104</td>\n      <td>Grand Bassa</td>\n      <td>5.90</td>\n      <td>5.90</td>\n      <td>NaN</td>\n      <td>NaN</td>\n    </tr>\n    <tr>\n      <th>499</th>\n      <td>Liberia</td>\n      <td>LBR</td>\n      <td>Subnat</td>\n      <td>LBRr105</td>\n      <td>Grand Cape Mount</td>\n      <td>6.82</td>\n      <td>6.82</td>\n      <td>NaN</td>\n      <td>NaN</td>\n    </tr>\n  </tbody>\n</table>\n<p>500 rows × 9 columns</p>\n</div>"
     },
     "metadata": {},
     "execution_count": 87
    }
   ],
   "source": [
    "df_household.head(500)"
   ]
  },
  {
   "cell_type": "code",
   "execution_count": null,
   "metadata": {},
   "outputs": [],
   "source": []
  },
  {
   "cell_type": "markdown",
   "metadata": {},
   "source": [
    "Webscraping the wikipedia page for global peace index"
   ]
  },
  {
   "cell_type": "code",
   "execution_count": 16,
   "metadata": {},
   "outputs": [
    {
     "output_type": "execute_result",
     "data": {
      "text/plain": "         Country 2019 rank  2019 score[12] 2018 rank  2018 score[13]  \\\n0        Iceland         1           1.072         1           1.096   \n1    New Zealand         2           1.221         2           1.188   \n2       Portugal         3           1.274         5           1.315   \n3        Austria         4           1.291         3           1.273   \n4        Denmark         5           1.316         4           1.313   \n..           ...       ...             ...       ...             ...   \n158        Yemen       159           3.369       160           3.436   \n159        Syria       160           3.412       158           3.308   \n160  South Sudan       161           3.526       161           3.525   \n161         Iraq       162           3.573       163           3.599   \n162      Somalia       163           3.574       162           3.576   \n\n    2017 rank  2017 score[2] 2016 rank  2016 score[14] 2015 rank  ...  \\\n0           1          1.084         1           1.138         1  ...   \n1           2          1.216         3           1.238         3  ...   \n2           3          1.273         5           1.324        12  ...   \n3           4          1.292         4           1.249         4  ...   \n4           5          1.299         2           1.201         2  ...   \n..        ...            ...       ...             ...       ...  ...   \n158       161          3.516       162           3.530       160  ...   \n159       157          3.316       157           3.287       148  ...   \n160       160          3.462       161           3.524       161  ...   \n161       163          3.660       163           3.653       162  ...   \n162       162          3.519       160           3.465       159  ...   \n\n     2012 rank 2012 score[18],[19]  2011 rank 2011 score[20]  2010 rank  \\\n0            1               1.159          1          1.099          1   \n1            3               1.276          2          1.255          2   \n2           16               1.520         16          1.485         14   \n3            7               1.407          9          1.416          5   \n4            2               1.235          3          1.290          4   \n..         ...                 ...        ...            ...        ...   \n158        159               3.234        162          3.411        161   \n159        150               2.790        148          2.735        145   \n160        141               2.561        143          2.591        163   \n161        154               2.935        115          2.276        115   \n162        160               3.279        159          3.167        157   \n\n    2010 score[21]  2009 rank 2009 score  2008 rank 2008 score  \n0            1.143          1      1.160          1      1.111  \n1            1.251          2      1.260          2      1.261  \n2            1.472         13      1.437         10      1.387  \n3            1.383          5      1.369          5      1.337  \n4            1.334          3      1.269          3      1.272  \n..             ...        ...        ...        ...        ...  \n158          3.600        161      3.616        161      3.681  \n159          2.686        138      2.484        129      2.350  \n160            NaN        163        NaN        163        NaN  \n161          2.232        107      2.170         96      2.083  \n162          3.163        159      3.312        159      3.204  \n\n[163 rows x 25 columns]",
      "text/html": "<div>\n<style scoped>\n    .dataframe tbody tr th:only-of-type {\n        vertical-align: middle;\n    }\n\n    .dataframe tbody tr th {\n        vertical-align: top;\n    }\n\n    .dataframe thead th {\n        text-align: right;\n    }\n</style>\n<table border=\"1\" class=\"dataframe\">\n  <thead>\n    <tr style=\"text-align: right;\">\n      <th></th>\n      <th>Country</th>\n      <th>2019 rank</th>\n      <th>2019 score[12]</th>\n      <th>2018 rank</th>\n      <th>2018 score[13]</th>\n      <th>2017 rank</th>\n      <th>2017 score[2]</th>\n      <th>2016 rank</th>\n      <th>2016 score[14]</th>\n      <th>2015 rank</th>\n      <th>...</th>\n      <th>2012 rank</th>\n      <th>2012 score[18],[19]</th>\n      <th>2011 rank</th>\n      <th>2011 score[20]</th>\n      <th>2010 rank</th>\n      <th>2010 score[21]</th>\n      <th>2009 rank</th>\n      <th>2009 score</th>\n      <th>2008 rank</th>\n      <th>2008 score</th>\n    </tr>\n  </thead>\n  <tbody>\n    <tr>\n      <th>0</th>\n      <td>Iceland</td>\n      <td>1</td>\n      <td>1.072</td>\n      <td>1</td>\n      <td>1.096</td>\n      <td>1</td>\n      <td>1.084</td>\n      <td>1</td>\n      <td>1.138</td>\n      <td>1</td>\n      <td>...</td>\n      <td>1</td>\n      <td>1.159</td>\n      <td>1</td>\n      <td>1.099</td>\n      <td>1</td>\n      <td>1.143</td>\n      <td>1</td>\n      <td>1.160</td>\n      <td>1</td>\n      <td>1.111</td>\n    </tr>\n    <tr>\n      <th>1</th>\n      <td>New Zealand</td>\n      <td>2</td>\n      <td>1.221</td>\n      <td>2</td>\n      <td>1.188</td>\n      <td>2</td>\n      <td>1.216</td>\n      <td>3</td>\n      <td>1.238</td>\n      <td>3</td>\n      <td>...</td>\n      <td>3</td>\n      <td>1.276</td>\n      <td>2</td>\n      <td>1.255</td>\n      <td>2</td>\n      <td>1.251</td>\n      <td>2</td>\n      <td>1.260</td>\n      <td>2</td>\n      <td>1.261</td>\n    </tr>\n    <tr>\n      <th>2</th>\n      <td>Portugal</td>\n      <td>3</td>\n      <td>1.274</td>\n      <td>5</td>\n      <td>1.315</td>\n      <td>3</td>\n      <td>1.273</td>\n      <td>5</td>\n      <td>1.324</td>\n      <td>12</td>\n      <td>...</td>\n      <td>16</td>\n      <td>1.520</td>\n      <td>16</td>\n      <td>1.485</td>\n      <td>14</td>\n      <td>1.472</td>\n      <td>13</td>\n      <td>1.437</td>\n      <td>10</td>\n      <td>1.387</td>\n    </tr>\n    <tr>\n      <th>3</th>\n      <td>Austria</td>\n      <td>4</td>\n      <td>1.291</td>\n      <td>3</td>\n      <td>1.273</td>\n      <td>4</td>\n      <td>1.292</td>\n      <td>4</td>\n      <td>1.249</td>\n      <td>4</td>\n      <td>...</td>\n      <td>7</td>\n      <td>1.407</td>\n      <td>9</td>\n      <td>1.416</td>\n      <td>5</td>\n      <td>1.383</td>\n      <td>5</td>\n      <td>1.369</td>\n      <td>5</td>\n      <td>1.337</td>\n    </tr>\n    <tr>\n      <th>4</th>\n      <td>Denmark</td>\n      <td>5</td>\n      <td>1.316</td>\n      <td>4</td>\n      <td>1.313</td>\n      <td>5</td>\n      <td>1.299</td>\n      <td>2</td>\n      <td>1.201</td>\n      <td>2</td>\n      <td>...</td>\n      <td>2</td>\n      <td>1.235</td>\n      <td>3</td>\n      <td>1.290</td>\n      <td>4</td>\n      <td>1.334</td>\n      <td>3</td>\n      <td>1.269</td>\n      <td>3</td>\n      <td>1.272</td>\n    </tr>\n    <tr>\n      <th>...</th>\n      <td>...</td>\n      <td>...</td>\n      <td>...</td>\n      <td>...</td>\n      <td>...</td>\n      <td>...</td>\n      <td>...</td>\n      <td>...</td>\n      <td>...</td>\n      <td>...</td>\n      <td>...</td>\n      <td>...</td>\n      <td>...</td>\n      <td>...</td>\n      <td>...</td>\n      <td>...</td>\n      <td>...</td>\n      <td>...</td>\n      <td>...</td>\n      <td>...</td>\n      <td>...</td>\n    </tr>\n    <tr>\n      <th>158</th>\n      <td>Yemen</td>\n      <td>159</td>\n      <td>3.369</td>\n      <td>160</td>\n      <td>3.436</td>\n      <td>161</td>\n      <td>3.516</td>\n      <td>162</td>\n      <td>3.530</td>\n      <td>160</td>\n      <td>...</td>\n      <td>159</td>\n      <td>3.234</td>\n      <td>162</td>\n      <td>3.411</td>\n      <td>161</td>\n      <td>3.600</td>\n      <td>161</td>\n      <td>3.616</td>\n      <td>161</td>\n      <td>3.681</td>\n    </tr>\n    <tr>\n      <th>159</th>\n      <td>Syria</td>\n      <td>160</td>\n      <td>3.412</td>\n      <td>158</td>\n      <td>3.308</td>\n      <td>157</td>\n      <td>3.316</td>\n      <td>157</td>\n      <td>3.287</td>\n      <td>148</td>\n      <td>...</td>\n      <td>150</td>\n      <td>2.790</td>\n      <td>148</td>\n      <td>2.735</td>\n      <td>145</td>\n      <td>2.686</td>\n      <td>138</td>\n      <td>2.484</td>\n      <td>129</td>\n      <td>2.350</td>\n    </tr>\n    <tr>\n      <th>160</th>\n      <td>South Sudan</td>\n      <td>161</td>\n      <td>3.526</td>\n      <td>161</td>\n      <td>3.525</td>\n      <td>160</td>\n      <td>3.462</td>\n      <td>161</td>\n      <td>3.524</td>\n      <td>161</td>\n      <td>...</td>\n      <td>141</td>\n      <td>2.561</td>\n      <td>143</td>\n      <td>2.591</td>\n      <td>163</td>\n      <td>NaN</td>\n      <td>163</td>\n      <td>NaN</td>\n      <td>163</td>\n      <td>NaN</td>\n    </tr>\n    <tr>\n      <th>161</th>\n      <td>Iraq</td>\n      <td>162</td>\n      <td>3.573</td>\n      <td>163</td>\n      <td>3.599</td>\n      <td>163</td>\n      <td>3.660</td>\n      <td>163</td>\n      <td>3.653</td>\n      <td>162</td>\n      <td>...</td>\n      <td>154</td>\n      <td>2.935</td>\n      <td>115</td>\n      <td>2.276</td>\n      <td>115</td>\n      <td>2.232</td>\n      <td>107</td>\n      <td>2.170</td>\n      <td>96</td>\n      <td>2.083</td>\n    </tr>\n    <tr>\n      <th>162</th>\n      <td>Somalia</td>\n      <td>163</td>\n      <td>3.574</td>\n      <td>162</td>\n      <td>3.576</td>\n      <td>162</td>\n      <td>3.519</td>\n      <td>160</td>\n      <td>3.465</td>\n      <td>159</td>\n      <td>...</td>\n      <td>160</td>\n      <td>3.279</td>\n      <td>159</td>\n      <td>3.167</td>\n      <td>157</td>\n      <td>3.163</td>\n      <td>159</td>\n      <td>3.312</td>\n      <td>159</td>\n      <td>3.204</td>\n    </tr>\n  </tbody>\n</table>\n<p>163 rows × 25 columns</p>\n</div>"
     },
     "metadata": {},
     "execution_count": 16
    }
   ],
   "source": [
    "## werkt!\n",
    "url = \"https://en.wikipedia.org/wiki/Global_Peace_Index\"\n",
    "df_world_peace = pd.read_html(url)[2]\n",
    "df_world_peace"
   ]
  },
  {
   "cell_type": "code",
   "execution_count": 112,
   "metadata": {},
   "outputs": [],
   "source": [
    "from bs4 import BeautifulSoup\n",
    "import requests\n",
    "from flask import Flask, request\n",
    "import urllib.request\n",
    "from urllib.request import urlopen"
   ]
  },
  {
   "cell_type": "code",
   "execution_count": 109,
   "metadata": {},
   "outputs": [],
   "source": [
    "wiki_url = \"https://en.wikipedia.org/wiki/Global_Peace_Index\"\n",
    "class_id = \"wikitable sortable jquery-tablesorter\"\n",
    "#request.get(\"https://en.wikipedia.org/wiki/Peru\").text"
   ]
  },
  {
   "cell_type": "code",
   "execution_count": 132,
   "metadata": {
    "tags": []
   },
   "outputs": [
    {
     "output_type": "stream",
     "name": "stdout",
     "text": "[]\n"
    }
   ],
   "source": [
    "url = 'https://en.wikipedia.org/wiki/Global_Peace_Index'\n",
    "html = urlopen(url) \n",
    "soup = BeautifulSoup(html, 'html.parser')\n",
    "#peace_index = soup.find('table', attrs={'class': class_id})\n",
    "#print(peace_index)\n",
    "soup.title.string\n",
    "header = [th.text.rstrip() for th in rows[0].find_all('th')]\n",
    "print(header)\n",
    "my_table = soup.find('table',{'class':'wikitable sortable'})"
   ]
  },
  {
   "cell_type": "code",
   "execution_count": null,
   "metadata": {},
   "outputs": [],
   "source": []
  },
  {
   "cell_type": "code",
   "execution_count": 169,
   "metadata": {
    "tags": []
   },
   "outputs": [
    {
     "output_type": "stream",
     "name": "stdout",
     "text": "200\n"
    }
   ],
   "source": [
    "wikiurl='https://en.wikipedia.org/wiki/Global_Peace_Index'\n",
    "table_class=\"wikitable sortable jquery-tablesorter\"\n",
    "response=requests.get(wikiurl)\n",
    "print(response.status_code)"
   ]
  },
  {
   "cell_type": "code",
   "execution_count": 195,
   "metadata": {},
   "outputs": [
    {
     "output_type": "execute_result",
     "data": {
      "text/plain": "pandas.core.frame.DataFrame"
     },
     "metadata": {},
     "execution_count": 195
    }
   ],
   "source": [
    "url = \"https://en.wikipedia.org/wiki/Global_Peace_Index\"\n",
    "table = pd.read_html(url)[2]\n",
    "type(table)\n"
   ]
  },
  {
   "cell_type": "code",
   "execution_count": 215,
   "metadata": {
    "tags": []
   },
   "outputs": [],
   "source": [
    "soup = BeautifulSoup(response.text, 'html.parser')\n",
    "#soup.find(\"div\", {\"class\":\"mw-parser-output\"})\n",
    "#soup.find(\"table\", {\"class\":\"wikitable sortable jquery-tablesorter\"})\n",
    "#table = soup.find(\"table\", {\"class\":\"wikitable\"})\n",
    "ta=soup.find(\"table\", {\"class\":\"wikitable sortable\"}).tbody\n"
   ]
  },
  {
   "cell_type": "code",
   "execution_count": 216,
   "metadata": {
    "tags": []
   },
   "outputs": [
    {
     "output_type": "error",
     "ename": "SyntaxError",
     "evalue": "unexpected EOF while parsing (<ipython-input-216-f5deed91ab4b>, line 17)",
     "traceback": [
      "\u001b[1;36m  File \u001b[1;32m\"<ipython-input-216-f5deed91ab4b>\"\u001b[1;36m, line \u001b[1;32m17\u001b[0m\n\u001b[1;33m    \u001b[0m\n\u001b[1;37m    ^\u001b[0m\n\u001b[1;31mSyntaxError\u001b[0m\u001b[1;31m:\u001b[0m unexpected EOF while parsing\n"
     ]
    }
   ],
   "source": [
    "c1 = []\n",
    "c2 = []\n",
    "c3 = []\n",
    "c4 = []\n",
    "c5 = []\n",
    "c6 = []\n",
    "c7 = []\n",
    "c8 = []\n",
    "c9 = []\n",
    "c10 = []\n",
    "c11 = []\n",
    "\n",
    "for row in my_table.findAll(\"tr\"):\n",
    "    #print(row)\n",
    "    #cells = row.findAll('td')\n",
    "\n",
    "        "
   ]
  },
  {
   "cell_type": "code",
   "execution_count": 146,
   "metadata": {},
   "outputs": [
    {
     "output_type": "execute_result",
     "data": {
      "text/plain": "[]"
     },
     "metadata": {},
     "execution_count": 146
    }
   ],
   "source": [
    "c1.append(cells[0].find('a').text)\n",
    "    c2.append(cells[1].find(text=True))\n",
    "    c3.append(cells[2].find(text=True))\n",
    "    c4.append(cells[3].find(text=True))\n",
    "    c5.append(cells[4].find(text=True))\n",
    "    c6.append(cells[5].find(text=True))\n",
    "    c7.append(cells[6].find(text=True))\n",
    "    c8.append(cells[7].find(text=True))\n",
    "    c9.append(cells[8].find(text=True))\n",
    "    c10.append(cells[9].find(text=True))\n",
    "    c11.append(cells[10].find(text=True))"
   ]
  },
  {
   "cell_type": "code",
   "execution_count": 139,
   "metadata": {},
   "outputs": [
    {
     "output_type": "execute_result",
     "data": {
      "text/plain": "{'Country': 0,\n '2019 Rank': 0,\n '2019 score': 0,\n '2018 Rank': 0,\n '2018 score': 0,\n '2017 Rank': 0,\n '2017 score': 0,\n '2016 Rank': 0,\n '2016 score': 0,\n '2015 Rank': 0,\n '2015 score': 0}"
     },
     "metadata": {},
     "execution_count": 139
    }
   ],
   "source": [
    "d = {\"Country\":0, \"2019 Rank\":0, \"2019 score\":0, \"2018 Rank\":0, \"2018 score\":0, \"2017 Rank\":0, \"2017 score\":0, \"2016 Rank\":0, \"2016 score\":0, \"2015 Rank\":0, \"2015 score\":0}\n",
    "d"
   ]
  },
  {
   "cell_type": "code",
   "execution_count": 142,
   "metadata": {},
   "outputs": [],
   "source": [
    "d['Country'] = c1\n",
    "d['2019 Rank'] = c2\n",
    "d['2019 score'] = c3\n",
    "d['2018 Rank'] = c4\n",
    "d['2018 score'] = c5\n",
    "d['2017 Rank'] = c6\n",
    "d['2017 score'] = c7\n",
    "d['2016 Rank'] = c8\n",
    "d['2016 score'] = c9\n",
    "d['2015 Rank'] = c10\n",
    "d['2015 score'] = c11"
   ]
  },
  {
   "cell_type": "code",
   "execution_count": 144,
   "metadata": {},
   "outputs": [],
   "source": [
    "df_table = pd.DataFrame(d)"
   ]
  },
  {
   "cell_type": "code",
   "execution_count": 145,
   "metadata": {},
   "outputs": [
    {
     "output_type": "execute_result",
     "data": {
      "text/plain": "Empty DataFrame\nColumns: [Country, 2019 Rank, 2019 score, 2018 Rank, 2018 score, 2017 Rank, 2017 score, 2016 Rank, 2016 score, 2015 Rank, 2015 score]\nIndex: []",
      "text/html": "<div>\n<style scoped>\n    .dataframe tbody tr th:only-of-type {\n        vertical-align: middle;\n    }\n\n    .dataframe tbody tr th {\n        vertical-align: top;\n    }\n\n    .dataframe thead th {\n        text-align: right;\n    }\n</style>\n<table border=\"1\" class=\"dataframe\">\n  <thead>\n    <tr style=\"text-align: right;\">\n      <th></th>\n      <th>Country</th>\n      <th>2019 Rank</th>\n      <th>2019 score</th>\n      <th>2018 Rank</th>\n      <th>2018 score</th>\n      <th>2017 Rank</th>\n      <th>2017 score</th>\n      <th>2016 Rank</th>\n      <th>2016 score</th>\n      <th>2015 Rank</th>\n      <th>2015 score</th>\n    </tr>\n  </thead>\n  <tbody>\n  </tbody>\n</table>\n</div>"
     },
     "metadata": {},
     "execution_count": 145
    }
   ],
   "source": [
    "df_table"
   ]
  },
  {
   "cell_type": "code",
   "execution_count": 143,
   "metadata": {
    "tags": []
   },
   "outputs": [],
   "source": [
    "my_table = soup.find('table',{'class':'wikitable sortable'})\n",
    "#my_table"
   ]
  },
  {
   "cell_type": "code",
   "execution_count": null,
   "metadata": {},
   "outputs": [],
   "source": [
    "### playing around with dataframe of stringency, may not be usefull. "
   ]
  },
  {
   "cell_type": "code",
   "execution_count": 166,
   "metadata": {
    "tags": []
   },
   "outputs": [],
   "source": [
    "stringency = pd.read_csv(\"datasets_stringency.csv\")\n",
    "\n",
    "#Stringency index 0 to 100 of each country. 100 is strictest."
   ]
  },
  {
   "cell_type": "code",
   "execution_count": 167,
   "metadata": {},
   "outputs": [],
   "source": [
    "stringency.rename(columns={\"Entity;Code;Date;Government Response Stringency Index ((0 to 100\" : \"Country\", \" 100 = strictest))\" : \"StringencyIndex\"}, inplace=True)\n"
   ]
  },
  {
   "cell_type": "code",
   "execution_count": 168,
   "metadata": {},
   "outputs": [],
   "source": [
    "stringency[\"Country\"] = stringency[\"Country\"].str.split(';', 2, expand=True)\n",
    "stringency[\"StringencyIndex\"] = stringency[\"StringencyIndex\"].str.split(';').str[1]"
   ]
  },
  {
   "cell_type": "code",
   "execution_count": 169,
   "metadata": {},
   "outputs": [],
   "source": [
    "stringency[\"StringencyIndex\"] = stringency[\"StringencyIndex\"].astype('float')\n",
    "stringency_mean_countries = stringency.groupby(\"Country\").mean()"
   ]
  },
  {
   "cell_type": "code",
   "execution_count": null,
   "metadata": {},
   "outputs": [],
   "source": []
  },
  {
   "cell_type": "code",
   "execution_count": 3,
   "metadata": {},
   "outputs": [],
   "source": [
    "import tabula\n",
    "from tabula import read_pdf"
   ]
  },
  {
   "cell_type": "code",
   "execution_count": 5,
   "metadata": {},
   "outputs": [
    {
     "output_type": "error",
     "ename": "JavaNotFoundError",
     "evalue": "`java` command is not found from this Python process.Please ensure Java is installed and PATH is set for `java`",
     "traceback": [
      "\u001b[1;31m---------------------------------------------------------------------------\u001b[0m",
      "\u001b[1;31mFileNotFoundError\u001b[0m                         Traceback (most recent call last)",
      "\u001b[1;32m~\\AppData\\Local\\Programs\\Python\\Python38-32\\lib\\site-packages\\tabula\\io.py\u001b[0m in \u001b[0;36m_run\u001b[1;34m(java_options, options, path, encoding)\u001b[0m\n\u001b[0;32m     79\u001b[0m     \u001b[1;32mtry\u001b[0m\u001b[1;33m:\u001b[0m\u001b[1;33m\u001b[0m\u001b[1;33m\u001b[0m\u001b[0m\n\u001b[1;32m---> 80\u001b[1;33m         result = subprocess.run(\n\u001b[0m\u001b[0;32m     81\u001b[0m             \u001b[0margs\u001b[0m\u001b[1;33m,\u001b[0m\u001b[1;33m\u001b[0m\u001b[1;33m\u001b[0m\u001b[0m\n",
      "\u001b[1;32m~\\AppData\\Local\\Programs\\Python\\Python38-32\\lib\\subprocess.py\u001b[0m in \u001b[0;36mrun\u001b[1;34m(input, capture_output, timeout, check, *popenargs, **kwargs)\u001b[0m\n\u001b[0;32m    488\u001b[0m \u001b[1;33m\u001b[0m\u001b[0m\n\u001b[1;32m--> 489\u001b[1;33m     \u001b[1;32mwith\u001b[0m \u001b[0mPopen\u001b[0m\u001b[1;33m(\u001b[0m\u001b[1;33m*\u001b[0m\u001b[0mpopenargs\u001b[0m\u001b[1;33m,\u001b[0m \u001b[1;33m**\u001b[0m\u001b[0mkwargs\u001b[0m\u001b[1;33m)\u001b[0m \u001b[1;32mas\u001b[0m \u001b[0mprocess\u001b[0m\u001b[1;33m:\u001b[0m\u001b[1;33m\u001b[0m\u001b[1;33m\u001b[0m\u001b[0m\n\u001b[0m\u001b[0;32m    490\u001b[0m         \u001b[1;32mtry\u001b[0m\u001b[1;33m:\u001b[0m\u001b[1;33m\u001b[0m\u001b[1;33m\u001b[0m\u001b[0m\n",
      "\u001b[1;32m~\\AppData\\Local\\Programs\\Python\\Python38-32\\lib\\subprocess.py\u001b[0m in \u001b[0;36m__init__\u001b[1;34m(self, args, bufsize, executable, stdin, stdout, stderr, preexec_fn, close_fds, shell, cwd, env, universal_newlines, startupinfo, creationflags, restore_signals, start_new_session, pass_fds, encoding, errors, text)\u001b[0m\n\u001b[0;32m    853\u001b[0m \u001b[1;33m\u001b[0m\u001b[0m\n\u001b[1;32m--> 854\u001b[1;33m             self._execute_child(args, executable, preexec_fn, close_fds,\n\u001b[0m\u001b[0;32m    855\u001b[0m                                 \u001b[0mpass_fds\u001b[0m\u001b[1;33m,\u001b[0m \u001b[0mcwd\u001b[0m\u001b[1;33m,\u001b[0m \u001b[0menv\u001b[0m\u001b[1;33m,\u001b[0m\u001b[1;33m\u001b[0m\u001b[1;33m\u001b[0m\u001b[0m\n",
      "\u001b[1;32m~\\AppData\\Local\\Programs\\Python\\Python38-32\\lib\\subprocess.py\u001b[0m in \u001b[0;36m_execute_child\u001b[1;34m(self, args, executable, preexec_fn, close_fds, pass_fds, cwd, env, startupinfo, creationflags, shell, p2cread, p2cwrite, c2pread, c2pwrite, errread, errwrite, unused_restore_signals, unused_start_new_session)\u001b[0m\n\u001b[0;32m   1306\u001b[0m             \u001b[1;32mtry\u001b[0m\u001b[1;33m:\u001b[0m\u001b[1;33m\u001b[0m\u001b[1;33m\u001b[0m\u001b[0m\n\u001b[1;32m-> 1307\u001b[1;33m                 hp, ht, pid, tid = _winapi.CreateProcess(executable, args,\n\u001b[0m\u001b[0;32m   1308\u001b[0m                                          \u001b[1;31m# no special security\u001b[0m\u001b[1;33m\u001b[0m\u001b[1;33m\u001b[0m\u001b[1;33m\u001b[0m\u001b[0m\n",
      "\u001b[1;31mFileNotFoundError\u001b[0m: [WinError 2] Het systeem kan het opgegeven bestand niet vinden",
      "\nDuring handling of the above exception, another exception occurred:\n",
      "\u001b[1;31mJavaNotFoundError\u001b[0m                         Traceback (most recent call last)",
      "\u001b[1;32m<ipython-input-5-1ed9d8a4c8bd>\u001b[0m in \u001b[0;36m<module>\u001b[1;34m\u001b[0m\n\u001b[1;32m----> 1\u001b[1;33m \u001b[0mdata\u001b[0m\u001b[1;33m=\u001b[0m \u001b[0mread_pdf\u001b[0m\u001b[1;33m(\u001b[0m\u001b[1;34m\"GPI_2020_web.pdf\"\u001b[0m\u001b[1;33m,\u001b[0m \u001b[0mpages\u001b[0m\u001b[1;33m=\u001b[0m\u001b[1;36m10\u001b[0m\u001b[1;33m,\u001b[0m \u001b[0mencoding\u001b[0m \u001b[1;33m=\u001b[0m \u001b[1;34m'latin1'\u001b[0m\u001b[1;33m,\u001b[0m \u001b[0mguess\u001b[0m \u001b[1;33m=\u001b[0m \u001b[1;32mFalse\u001b[0m\u001b[1;33m)\u001b[0m\u001b[1;33m\u001b[0m\u001b[1;33m\u001b[0m\u001b[0m\n\u001b[0m",
      "\u001b[1;32m~\\AppData\\Local\\Programs\\Python\\Python38-32\\lib\\site-packages\\tabula\\io.py\u001b[0m in \u001b[0;36mread_pdf\u001b[1;34m(input_path, output_format, encoding, java_options, pandas_options, multiple_tables, user_agent, **kwargs)\u001b[0m\n\u001b[0;32m    320\u001b[0m \u001b[1;33m\u001b[0m\u001b[0m\n\u001b[0;32m    321\u001b[0m     \u001b[1;32mtry\u001b[0m\u001b[1;33m:\u001b[0m\u001b[1;33m\u001b[0m\u001b[1;33m\u001b[0m\u001b[0m\n\u001b[1;32m--> 322\u001b[1;33m         \u001b[0moutput\u001b[0m \u001b[1;33m=\u001b[0m \u001b[0m_run\u001b[0m\u001b[1;33m(\u001b[0m\u001b[0mjava_options\u001b[0m\u001b[1;33m,\u001b[0m \u001b[0mkwargs\u001b[0m\u001b[1;33m,\u001b[0m \u001b[0mpath\u001b[0m\u001b[1;33m,\u001b[0m \u001b[0mencoding\u001b[0m\u001b[1;33m)\u001b[0m\u001b[1;33m\u001b[0m\u001b[1;33m\u001b[0m\u001b[0m\n\u001b[0m\u001b[0;32m    323\u001b[0m     \u001b[1;32mfinally\u001b[0m\u001b[1;33m:\u001b[0m\u001b[1;33m\u001b[0m\u001b[1;33m\u001b[0m\u001b[0m\n\u001b[0;32m    324\u001b[0m         \u001b[1;32mif\u001b[0m \u001b[0mtemporary\u001b[0m\u001b[1;33m:\u001b[0m\u001b[1;33m\u001b[0m\u001b[1;33m\u001b[0m\u001b[0m\n",
      "\u001b[1;32m~\\AppData\\Local\\Programs\\Python\\Python38-32\\lib\\site-packages\\tabula\\io.py\u001b[0m in \u001b[0;36m_run\u001b[1;34m(java_options, options, path, encoding)\u001b[0m\n\u001b[0;32m     89\u001b[0m         \u001b[1;32mreturn\u001b[0m \u001b[0mresult\u001b[0m\u001b[1;33m.\u001b[0m\u001b[0mstdout\u001b[0m\u001b[1;33m\u001b[0m\u001b[1;33m\u001b[0m\u001b[0m\n\u001b[0;32m     90\u001b[0m     \u001b[1;32mexcept\u001b[0m \u001b[0mFileNotFoundError\u001b[0m\u001b[1;33m:\u001b[0m\u001b[1;33m\u001b[0m\u001b[1;33m\u001b[0m\u001b[0m\n\u001b[1;32m---> 91\u001b[1;33m         \u001b[1;32mraise\u001b[0m \u001b[0mJavaNotFoundError\u001b[0m\u001b[1;33m(\u001b[0m\u001b[0mJAVA_NOT_FOUND_ERROR\u001b[0m\u001b[1;33m)\u001b[0m\u001b[1;33m\u001b[0m\u001b[1;33m\u001b[0m\u001b[0m\n\u001b[0m\u001b[0;32m     92\u001b[0m     \u001b[1;32mexcept\u001b[0m \u001b[0msubprocess\u001b[0m\u001b[1;33m.\u001b[0m\u001b[0mCalledProcessError\u001b[0m \u001b[1;32mas\u001b[0m \u001b[0me\u001b[0m\u001b[1;33m:\u001b[0m\u001b[1;33m\u001b[0m\u001b[1;33m\u001b[0m\u001b[0m\n\u001b[0;32m     93\u001b[0m         \u001b[0mlogger\u001b[0m\u001b[1;33m.\u001b[0m\u001b[0merror\u001b[0m\u001b[1;33m(\u001b[0m\u001b[1;34m\"Error from tabula-java:\\n{}\\n\"\u001b[0m\u001b[1;33m.\u001b[0m\u001b[0mformat\u001b[0m\u001b[1;33m(\u001b[0m\u001b[0me\u001b[0m\u001b[1;33m.\u001b[0m\u001b[0mstderr\u001b[0m\u001b[1;33m.\u001b[0m\u001b[0mdecode\u001b[0m\u001b[1;33m(\u001b[0m\u001b[0mencoding\u001b[0m\u001b[1;33m)\u001b[0m\u001b[1;33m)\u001b[0m\u001b[1;33m)\u001b[0m\u001b[1;33m\u001b[0m\u001b[1;33m\u001b[0m\u001b[0m\n",
      "\u001b[1;31mJavaNotFoundError\u001b[0m: `java` command is not found from this Python process.Please ensure Java is installed and PATH is set for `java`"
     ]
    }
   ],
   "source": [
    "data= read_pdf(\"GPI_2020_web.pdf\", pages=10, encoding = 'latin1', guess = False)"
   ]
  },
  {
   "cell_type": "code",
   "execution_count": null,
   "metadata": {},
   "outputs": [],
   "source": []
  }
 ]
}